{
 "cells": [
  {
   "cell_type": "code",
   "execution_count": 2,
   "metadata": {},
   "outputs": [],
   "source": [
    "import pyhf\n",
    "import pyhf.experimental.modifiers\n"
   ]
  },
  {
   "cell_type": "code",
   "execution_count": 3,
   "metadata": {},
   "outputs": [
    {
     "name": "stdout",
     "output_type": "stream",
     "text": [
      "{'name': 'f1', 'type': 'customfunc', 'data': {'expr': 'm1+(m2**2)'}}\n",
      "{'name': 'f2', 'type': 'customfunc', 'data': {'expr': 'm1'}}\n"
     ]
    }
   ],
   "source": [
    "new_params = {\n",
    "    \"m1\": {\"inits\": (1.0,), \"bounds\": ((-5.0, 5.0),)},\n",
    "    \"m2\": {\"inits\": (1.0,), \"bounds\": ((-5.0, 5.0),)},\n",
    "}\n",
    "expanded_pyhf = pyhf.experimental.modifiers.add_custom_modifier(\n",
    "    \"customfunc\", [\"m1\", \"m2\"], new_params\n",
    ")\n",
    "model = pyhf.Model(\n",
    "    {\n",
    "        \"channels\": [\n",
    "            {\n",
    "                \"name\": \"singlechannel\",\n",
    "                \"samples\": [\n",
    "                    {\n",
    "                        \"name\": \"signal\",\n",
    "                        \"data\": [10] * 20,\n",
    "                        \"modifiers\": [\n",
    "                            {\n",
    "                                \"name\": \"f2\",\n",
    "                                \"type\": \"customfunc\",\n",
    "                                \"data\": {\"expr\": \"m1\"},\n",
    "                            },\n",
    "                        ],\n",
    "                    },\n",
    "                    {\n",
    "                        \"name\": \"background\",\n",
    "                        \"data\": [100] * 20,\n",
    "                        \"modifiers\": [\n",
    "                            {\n",
    "                                \"name\": \"f1\",\n",
    "                                \"type\": \"customfunc\",\n",
    "                                \"data\": {\"expr\": \"m1+(m2**2)\"},\n",
    "                            },\n",
    "                        ],\n",
    "                    },\n",
    "                ],\n",
    "            }\n",
    "        ]\n",
    "    },\n",
    "    modifier_set=expanded_pyhf,\n",
    "    poi_name=\"m1\",\n",
    "    validate=False,\n",
    "    batch_size=1,\n",
    ")\n"
   ]
  },
  {
   "cell_type": "code",
   "execution_count": 4,
   "metadata": {},
   "outputs": [
    {
     "name": "stdout",
     "output_type": "stream",
     "text": [
      "deps (2, 1)\n"
     ]
    },
    {
     "data": {
      "text/plain": [
       "array([[510., 510., 510., 510., 510., 510., 510., 510., 510., 510., 510.,\n",
       "        510., 510., 510., 510., 510., 510., 510., 510., 510.]])"
      ]
     },
     "execution_count": 4,
     "metadata": {},
     "output_type": "execute_result"
    }
   ],
   "source": [
    "model.expected_actualdata([[1.0, 2.0]])"
   ]
  },
  {
   "cell_type": "code",
   "execution_count": 6,
   "metadata": {},
   "outputs": [],
   "source": [
    "import numpy as np"
   ]
  },
  {
   "cell_type": "code",
   "execution_count": 16,
   "metadata": {},
   "outputs": [
    {
     "name": "stdout",
     "output_type": "stream",
     "text": [
      "deps (2, 1)\n",
      "deps (2, 1)\n",
      "deps (2, 1)\n",
      "deps (2, 1)\n",
      "deps (2, 1)\n",
      "deps (2, 1)\n",
      "deps (2, 1)\n",
      "deps (2, 1)\n",
      "deps (2, 1)\n",
      "deps (2, 1)\n",
      "deps (2, 1)\n",
      "deps (2, 1)\n",
      "deps (2, 1)\n",
      "deps (2, 1)\n",
      "deps (2, 1)\n",
      "deps (2, 1)\n",
      "deps (2, 1)\n",
      "deps (2, 1)\n",
      "deps (2, 1)\n",
      "deps (2, 1)\n",
      "deps (2, 1)\n",
      "deps (2, 1)\n",
      "deps (2, 1)\n",
      "deps (2, 1)\n",
      "deps (2, 1)\n",
      "deps (2, 1)\n",
      "deps (2, 1)\n",
      "deps (2, 1)\n",
      "deps (2, 1)\n",
      "deps (2, 1)\n",
      "deps (2, 1)\n",
      "deps (2, 1)\n",
      "deps (2, 1)\n",
      "deps (2, 1)\n",
      "deps (2, 1)\n",
      "deps (2, 1)\n",
      "deps (2, 1)\n",
      "deps (2, 1)\n",
      "deps (2, 1)\n",
      "deps (2, 1)\n",
      "deps (2, 1)\n",
      "deps (2, 1)\n",
      "deps (2, 1)\n",
      "deps (2, 1)\n",
      "deps (2, 1)\n",
      "deps (2, 1)\n",
      "deps (2, 1)\n",
      "deps (2, 1)\n",
      "deps (2, 1)\n",
      "deps (2, 1)\n",
      "deps (2, 1)\n",
      "deps (2, 1)\n",
      "deps (2, 1)\n",
      "deps (2, 1)\n",
      "deps (2, 1)\n",
      "deps (2, 1)\n",
      "deps (2, 1)\n",
      "deps (2, 1)\n",
      "deps (2, 1)\n",
      "deps (2, 1)\n",
      "deps (2, 1)\n",
      "deps (2, 1)\n",
      "deps (2, 1)\n",
      "deps (2, 1)\n",
      "deps (2, 1)\n",
      "deps (2, 1)\n",
      "deps (2, 1)\n",
      "deps (2, 1)\n",
      "deps (2, 1)\n",
      "deps (2, 1)\n",
      "deps (2, 1)\n",
      "deps (2, 1)\n",
      "deps (2, 1)\n",
      "deps (2, 1)\n",
      "deps (2, 1)\n",
      "deps (2, 1)\n",
      "deps (2, 1)\n",
      "deps (2, 1)\n",
      "deps (2, 1)\n",
      "deps (2, 1)\n",
      "deps (2, 1)\n",
      "deps (2, 1)\n",
      "deps (2, 1)\n",
      "deps (2, 1)\n",
      "deps (2, 1)\n",
      "deps (2, 1)\n",
      "deps (2, 1)\n",
      "deps (2, 1)\n",
      "deps (2, 1)\n",
      "Observed: 1.0, Expected: 1.0\n"
     ]
    }
   ],
   "source": [
    "data = model.expected_actualdata([[1.0, 2.0]]) + np.random.randint(\n",
    "    low=-10, high=10, size=20\n",
    ")\n",
    "\n",
    "test_mu = 1\n",
    "\n",
    "CLs_obs, CLs_exp = pyhf.infer.hypotest(\n",
    "    test_mu, data, model, test_stat=\"q\", return_expected=True\n",
    ")\n",
    "\n",
    "print(f\"Observed: {CLs_obs}, Expected: {CLs_exp}\")\n"
   ]
  },
  {
   "cell_type": "code",
   "execution_count": 13,
   "metadata": {},
   "outputs": [
    {
     "name": "stdout",
     "output_type": "stream",
     "text": [
      "  channels: ['singlechannel']\n",
      "     nbins: {'singlechannel': 20}\n",
      "   samples: ['background', 'signal']\n",
      " modifiers: [('f1', 'customfunc'), ('f2', 'customfunc')]\n",
      "parameters: ['m1', 'm2']\n",
      "  nauxdata: 0\n",
      "   auxdata: []\n"
     ]
    }
   ],
   "source": [
    "print(f\"  channels: {model.config.channels}\")\n",
    "print(f\"     nbins: {model.config.channel_nbins}\")\n",
    "print(f\"   samples: {model.config.samples}\")\n",
    "print(f\" modifiers: {model.config.modifiers}\")\n",
    "print(f\"parameters: {model.config.parameters}\")\n",
    "print(f\"  nauxdata: {model.config.nauxdata}\")\n",
    "print(f\"   auxdata: {model.config.auxdata}\")"
   ]
  },
  {
   "cell_type": "code",
   "execution_count": 17,
   "metadata": {},
   "outputs": [
    {
     "name": "stdout",
     "output_type": "stream",
     "text": [
      "deps (2, 1)\n",
      "deps (2, 1)\n",
      "deps (2, 1)\n",
      "deps (2, 1)\n",
      "deps (2, 1)\n",
      "deps (2, 1)\n",
      "deps (2, 1)\n",
      "deps (2, 1)\n",
      "deps (2, 1)\n",
      "deps (2, 1)\n",
      "deps (2, 1)\n",
      "deps (2, 1)\n",
      "deps (2, 1)\n",
      "deps (2, 1)\n",
      "deps (2, 1)\n",
      "deps (2, 1)\n",
      "deps (2, 1)\n",
      "deps (2, 1)\n",
      "deps (2, 1)\n",
      "deps (2, 1)\n",
      "deps (2, 1)\n"
     ]
    },
    {
     "data": {
      "text/plain": [
       "array([4.50996661, 0.38083677])"
      ]
     },
     "execution_count": 17,
     "metadata": {},
     "output_type": "execute_result"
    }
   ],
   "source": [
    "pyhf.infer.mle.fit(data=data, pdf=model)"
   ]
  },
  {
   "cell_type": "code",
   "execution_count": 10,
   "metadata": {},
   "outputs": [
    {
     "name": "stderr",
     "output_type": "stream",
     "text": [
      "qmu test statistic used for fit configuration with POI bounded at zero.\n",
      "Use the qmu_tilde test statistic (pyhf.infer.test_statistics.qmu_tilde) instead.\n",
      "qmu test statistic used for fit configuration with POI bounded at zero.\n",
      "Use the qmu_tilde test statistic (pyhf.infer.test_statistics.qmu_tilde) instead.\n"
     ]
    },
    {
     "name": "stdout",
     "output_type": "stream",
     "text": [
      "      Observed CLs: 0.4957\n",
      "Expected CLs(-2 σ): 0.0832\n",
      "Expected CLs(-1 σ): 0.1828\n",
      "Expected CLs( 0 σ): 0.3705\n",
      "Expected CLs( 1 σ): 0.6437\n",
      "Expected CLs( 2 σ): 0.8854\n"
     ]
    }
   ],
   "source": [
    "CLs_obs, CLs_exp = pyhf.infer.hypotest(\n",
    "    1.0,  # null hypothesis\n",
    "    [53.0, 65.0] + model.config.auxdata,\n",
    "    model,\n",
    "    test_stat=\"q\",\n",
    "    return_expected_set=True,\n",
    ")\n",
    "print(f\"      Observed CLs: {CLs_obs:.4f}\")\n",
    "for expected_value, n_sigma in zip(CLs_exp, np.arange(-2, 3)):\n",
    "    print(f\"Expected CLs({n_sigma:2d} σ): {expected_value:.4f}\")"
   ]
  },
  {
   "cell_type": "code",
   "execution_count": 18,
   "metadata": {},
   "outputs": [
    {
     "data": {
      "image/png": "[encoded data removed]",
      "text/plain": [
       "<Figure size 504x360 with 1 Axes>"
      ]
     },
     "metadata": {
      "needs_background": "light"
     },
     "output_type": "display_data"
    }
   ],
   "source": [
    "import pyhf\n",
    "import numpy as np\n",
    "import matplotlib.pyplot as plt\n",
    "from pyhf.contrib.viz import brazil\n",
    "\n",
    "pyhf.set_backend(\"numpy\")\n",
    "model = pyhf.simplemodels.uncorrelated_background(\n",
    "    signal=[10.0], bkg=[50.0], bkg_uncertainty=[7.0]\n",
    ")\n",
    "data = [55.0] + model.config.auxdata\n",
    "\n",
    "poi_vals = np.linspace(0, 5, 41)\n",
    "results = [\n",
    "    pyhf.infer.hypotest(\n",
    "        test_poi, data, model, test_stat=\"qtilde\", return_expected_set=True\n",
    "    )\n",
    "    for test_poi in poi_vals\n",
    "]\n",
    "\n",
    "fig, ax = plt.subplots()\n",
    "fig.set_size_inches(7, 5)\n",
    "brazil.plot_results(poi_vals, results, ax=ax)\n",
    "fig.show()"
   ]
  },
  {
   "cell_type": "code",
   "execution_count": null,
   "metadata": {},
   "outputs": [],
   "source": []
  }
 ],
 "metadata": {
  "kernelspec": {
   "display_name": "Python 3.10.4 ('PLEnuM')",
   "language": "python",
   "name": "python3"
  },
  "language_info": {
   "codemirror_mode": {
    "name": "ipython",
    "version": 3
   },
   "file_extension": ".py",
   "mimetype": "text/x-python",
   "name": "python",
   "nbconvert_exporter": "python",
   "pygments_lexer": "ipython3",
   "version": "3.10.4"
  },
  "orig_nbformat": 4,
  "vscode": {
   "interpreter": {
    "hash": "0ba996df2b34c8b838a6723f471b00873bd81d83dd405585774c96822ec1df43"
   }
  }
 },
 "nbformat": 4,
 "nbformat_minor": 2
}
