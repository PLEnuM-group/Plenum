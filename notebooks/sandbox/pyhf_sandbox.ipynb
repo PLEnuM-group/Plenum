{
 "cells": [
  {
   "cell_type": "code",
   "execution_count": 1,
   "metadata": {},
   "outputs": [],
   "source": [
    "import pyhf\n"
   ]
  },
  {
   "cell_type": "code",
   "execution_count": 2,
   "metadata": {},
   "outputs": [
    {
     "name": "stdout",
     "output_type": "stream",
     "text": [
      "Observed: 0.05251497423736956, Expected: 0.06445320535890459\n"
     ]
    }
   ],
   "source": [
    "\n",
    "model = pyhf.simplemodels.uncorrelated_background(\n",
    "    signal=[12.0, 11.0], bkg=[50.0, 52.0], bkg_uncertainty=[3.0, 7.0]\n",
    ")\n",
    "\n",
    "data = [51, 48] + model.config.auxdata\n",
    "\n",
    "test_mu = 1.0\n",
    "\n",
    "CLs_obs, CLs_exp = pyhf.infer.hypotest(\n",
    "    test_mu, data, model, test_stat=\"qtilde\", return_expected=True\n",
    ")\n",
    "\n",
    "print(f\"Observed: {CLs_obs}, Expected: {CLs_exp}\")\n"
   ]
  },
  {
   "cell_type": "code",
   "execution_count": 3,
   "metadata": {},
   "outputs": [
    {
     "data": {
      "text/plain": [
       "[277.77777777777777, 55.183673469387756]"
      ]
     },
     "execution_count": 3,
     "metadata": {},
     "output_type": "execute_result"
    }
   ],
   "source": [
    "model.config.auxdata"
   ]
  },
  {
   "cell_type": "code",
   "execution_count": 4,
   "metadata": {},
   "outputs": [
    {
     "name": "stdout",
     "output_type": "stream",
     "text": [
      "Help on module pyhf.simplemodels in pyhf:\n",
      "\n",
      "NAME\n",
      "    pyhf.simplemodels\n",
      "\n",
      "FUNCTIONS\n",
      "    correlated_background(signal, bkg, bkg_up, bkg_down, batch_size=None)\n",
      "        Construct a simple single channel :class:`~pyhf.pdf.Model` with a\n",
      "        :class:`~pyhf.modifiers.histosys` modifier representing a background\n",
      "        with a fully correlated bin-by-bin uncertainty.\n",
      "        \n",
      "        Args:\n",
      "            signal (:obj:`list`): The data in the signal sample.\n",
      "            bkg (:obj:`list`): The data in the background sample.\n",
      "            bkg_up (:obj:`list`): The background sample under an upward variation\n",
      "             corresponding to :math:`\\alpha=+1`.\n",
      "            bkg_down (:obj:`list`): The background sample under a downward variation\n",
      "             corresponding to :math:`\\alpha=-1`.\n",
      "            batch_size (:obj:`None` or :obj:`int`): Number of simultaneous (batched) Models to compute.\n",
      "        \n",
      "        Returns:\n",
      "            ~pyhf.pdf.Model: The statistical model adhering to the :obj:`model.json` schema.\n",
      "        \n",
      "        Example:\n",
      "            >>> import pyhf\n",
      "            >>> pyhf.set_backend(\"numpy\")\n",
      "            >>> model = pyhf.simplemodels.correlated_background(\n",
      "            ...     signal=[12.0, 11.0],\n",
      "            ...     bkg=[50.0, 52.0],\n",
      "            ...     bkg_up=[45.0, 57.0],\n",
      "            ...     bkg_down=[55.0, 47.0],\n",
      "            ... )\n",
      "            >>> model.schema\n",
      "            'model.json'\n",
      "            >>> model.config.channels\n",
      "            ['single_channel']\n",
      "            >>> model.config.samples\n",
      "            ['background', 'signal']\n",
      "            >>> model.config.parameters\n",
      "            ['correlated_bkg_uncertainty', 'mu']\n",
      "            >>> model.expected_data(model.config.suggested_init())\n",
      "            array([62., 63.,  0.])\n",
      "    \n",
      "    uncorrelated_background(signal, bkg, bkg_uncertainty, batch_size=None)\n",
      "        Construct a simple single channel :class:`~pyhf.pdf.Model` with a\n",
      "        :class:`~pyhf.modifiers.shapesys` modifier representing an uncorrelated\n",
      "        background uncertainty.\n",
      "        \n",
      "        Example:\n",
      "            >>> import pyhf\n",
      "            >>> pyhf.set_backend(\"numpy\")\n",
      "            >>> model = pyhf.simplemodels.uncorrelated_background(\n",
      "            ...     signal=[12.0, 11.0], bkg=[50.0, 52.0], bkg_uncertainty=[3.0, 7.0]\n",
      "            ... )\n",
      "            >>> model.schema\n",
      "            'model.json'\n",
      "            >>> model.config.channels\n",
      "            ['singlechannel']\n",
      "            >>> model.config.samples\n",
      "            ['background', 'signal']\n",
      "            >>> model.config.parameters\n",
      "            ['mu', 'uncorr_bkguncrt']\n",
      "            >>> model.expected_data(model.config.suggested_init())\n",
      "            array([ 62.        ,  63.        , 277.77777778,  55.18367347])\n",
      "        \n",
      "        Args:\n",
      "            signal (:obj:`list`): The data in the signal sample\n",
      "            bkg (:obj:`list`): The data in the background sample\n",
      "            bkg_uncertainty (:obj:`list`): The statistical uncertainty on the background sample counts\n",
      "            batch_size (:obj:`None` or :obj:`int`): Number of simultaneous (batched) Models to compute\n",
      "        \n",
      "        Returns:\n",
      "            ~pyhf.pdf.Model: The statistical model adhering to the :obj:`model.json` schema\n",
      "\n",
      "FILE\n",
      "    /home/lisajsch/.local/share/virtualenvs/Plenum-kM6XdhCv/lib/python3.9/site-packages/pyhf/simplemodels.py\n",
      "\n",
      "\n"
     ]
    }
   ],
   "source": [
    "help(pyhf.simplemodels)"
   ]
  },
  {
   "cell_type": "code",
   "execution_count": 2,
   "metadata": {},
   "outputs": [],
   "source": [
    "model = pyhf.simplemodels.uncorrelated_background(\n",
    "    signal=[5.0, 10.0], bkg=[50.0, 60.0], bkg_uncertainty=[5.0, 12.0]\n",
    ")\n"
   ]
  },
  {
   "cell_type": "code",
   "execution_count": 5,
   "metadata": {},
   "outputs": [
    {
     "name": "stdout",
     "output_type": "stream",
     "text": [
      "  channels: ['singlechannel']\n",
      "     nbins: {'singlechannel': 2}\n",
      "   samples: ['background', 'signal']\n",
      " modifiers: [('mu', 'normfactor'), ('uncorr_bkguncrt', 'shapesys')]\n",
      "parameters: ['mu', 'uncorr_bkguncrt']\n",
      "  nauxdata: 2\n",
      "   auxdata: [100.0, 25.0]\n"
     ]
    }
   ],
   "source": [
    "print(f\"  channels: {model.config.channels}\")\n",
    "print(f\"     nbins: {model.config.channel_nbins}\")\n",
    "print(f\"   samples: {model.config.samples}\")\n",
    "print(f\" modifiers: {model.config.modifiers}\")\n",
    "print(f\"parameters: {model.config.parameters}\")\n",
    "print(f\"  nauxdata: {model.config.nauxdata}\")\n",
    "print(f\"   auxdata: {model.config.auxdata}\")"
   ]
  },
  {
   "cell_type": "code",
   "execution_count": 8,
   "metadata": {},
   "outputs": [],
   "source": [
    "observations = [53.0, 65.0] + model.config.auxdata"
   ]
  },
  {
   "cell_type": "code",
   "execution_count": 9,
   "metadata": {},
   "outputs": [
    {
     "data": {
      "text/plain": [
       "array([0.5400972 , 1.00192693, 0.99540615])"
      ]
     },
     "execution_count": 9,
     "metadata": {},
     "output_type": "execute_result"
    }
   ],
   "source": [
    "pyhf.infer.mle.fit(data=observations, pdf=model)"
   ]
  },
  {
   "cell_type": "code",
   "execution_count": 10,
   "metadata": {},
   "outputs": [
    {
     "name": "stderr",
     "output_type": "stream",
     "text": [
      "qmu test statistic used for fit configuration with POI bounded at zero.\n",
      "Use the qmu_tilde test statistic (pyhf.infer.test_statistics.qmu_tilde) instead.\n",
      "qmu test statistic used for fit configuration with POI bounded at zero.\n",
      "Use the qmu_tilde test statistic (pyhf.infer.test_statistics.qmu_tilde) instead.\n"
     ]
    },
    {
     "name": "stdout",
     "output_type": "stream",
     "text": [
      "      Observed CLs: 0.4957\n",
      "Expected CLs(-2 σ): 0.0832\n",
      "Expected CLs(-1 σ): 0.1828\n",
      "Expected CLs( 0 σ): 0.3705\n",
      "Expected CLs( 1 σ): 0.6437\n",
      "Expected CLs( 2 σ): 0.8854\n"
     ]
    }
   ],
   "source": [
    "CLs_obs, CLs_exp = pyhf.infer.hypotest(\n",
    "    1.0,  # null hypothesis\n",
    "    [53.0, 65.0] + model.config.auxdata,\n",
    "    model,\n",
    "    test_stat=\"q\",\n",
    "    return_expected_set=True,\n",
    ")\n",
    "print(f\"      Observed CLs: {CLs_obs:.4f}\")\n",
    "for expected_value, n_sigma in zip(CLs_exp, np.arange(-2, 3)):\n",
    "    print(f\"Expected CLs({n_sigma:2d} σ): {expected_value:.4f}\")"
   ]
  },
  {
   "cell_type": "code",
   "execution_count": null,
   "metadata": {},
   "outputs": [],
   "source": []
  }
 ],
 "metadata": {
  "interpreter": {
   "hash": "ce9583ac5360888d2c927c1184ce2bb85c925148753e2b5ec3bdf76daf172c05"
  },
  "kernelspec": {
   "display_name": "Python 3.9.7 ('Plenum-kM6XdhCv')",
   "language": "python",
   "name": "python3"
  },
  "language_info": {
   "codemirror_mode": {
    "name": "ipython",
    "version": 3
   },
   "file_extension": ".py",
   "mimetype": "text/x-python",
   "name": "python",
   "nbconvert_exporter": "python",
   "pygments_lexer": "ipython3",
   "version": "3.9.7"
  },
  "orig_nbformat": 4
 },
 "nbformat": 4,
 "nbformat_minor": 2
}
