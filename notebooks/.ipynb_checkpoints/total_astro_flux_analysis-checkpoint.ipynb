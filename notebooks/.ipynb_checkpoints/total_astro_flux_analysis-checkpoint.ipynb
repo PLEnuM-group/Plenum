{
 "cells": [
  {
   "cell_type": "code",
   "execution_count": 1,
   "metadata": {},
   "outputs": [],
   "source": [
    "%load_ext autoreload\n",
    "%autoreload 2\n",
    "%matplotlib inline"
   ]
  },
  {
   "cell_type": "code",
   "execution_count": 2,
   "metadata": {},
   "outputs": [],
   "source": [
    "import warnings\n",
    "warnings.filterwarnings('ignore')"
   ]
  },
  {
   "cell_type": "code",
   "execution_count": 6,
   "metadata": {},
   "outputs": [],
   "source": [
    "import numpy as np\n",
    "import tables, math, os, sys, scipy\n",
    "import healpy as hp\n",
    "import matplotlib.pylab as plt\n",
    "from astropy.coordinates import SkyCoord\n",
    "from matplotlib.colors import LogNorm\n",
    "sys.path.append('../')\n",
    "from core.tools import *\n",
    "from scipy.interpolate import splrep, splev\n",
    "\n",
    "from core.tools import _trans\n",
    "from core.progressbar.progressbar import ProgressBar "
   ]
  },
  {
   "cell_type": "code",
   "execution_count": 9,
   "metadata": {},
   "outputs": [],
   "source": [
    "from core.analysis_tools.public_pdfs import *\n",
    "from core.analysis_tools.amtospheric_background import *\n",
    "from core.analysis_tools.analysis import ReducedIntegratedSpatialTemplatePowerLawAnalysis\n",
    "from core.analysis_tools.signal_pdfs import SinglePowerLaw\n",
    "from core.analysis_tools.basic_spatial_templates import FullSky, NorthernHemisphere"
   ]
  },
  {
   "cell_type": "code",
   "execution_count": null,
   "metadata": {},
   "outputs": [],
   "source": [
    "effective_areas = EffectiveAreas()\n",
    "energy_smearing = TrueEnergy2ReconstructedEnergySmearing(\n",
    "    mc_path='/Users/mhuber/Downloads/mc_pass2_IC79_IC86_baseline_V06.npy')"
   ]
  },
  {
   "cell_type": "code",
   "execution_count": null,
   "metadata": {},
   "outputs": [],
   "source": [
    "phi100s = 10**np.linspace(-23,-17, 20)\n",
    "gammas = np.arange(1.5,4.1,0.25)\n",
    "signal_model = SinglePowerLaw(phi0_bins=phi100s, gamma_bins=gammas,\n",
    "                             n_fitbins_phi0=150, n_fitbins_gamma=80)"
   ]
  },
  {
   "cell_type": "code",
   "execution_count": null,
   "metadata": {},
   "outputs": [],
   "source": [
    "gc_template = NorthernHemisphere() #FullSky()"
   ]
  },
  {
   "cell_type": "code",
   "execution_count": null,
   "metadata": {
    "scrolled": true
   },
   "outputs": [],
   "source": [
    "atm_bckg = AtmosphericBackground()"
   ]
  },
  {
   "cell_type": "code",
   "execution_count": null,
   "metadata": {},
   "outputs": [],
   "source": [
    "sindec_bins = np.linspace(-1,1,200)\n",
    "ra_bins = np.linspace(0, np.pi*2, num=201)\n",
    "log_ereco_bins = np.arange(2,7.1,0.2)"
   ]
  },
  {
   "cell_type": "code",
   "execution_count": null,
   "metadata": {},
   "outputs": [],
   "source": [
    "gc_ana = ReducedIntegratedSpatialTemplatePowerLawAnalysis(sindec_bins, ra_bins, log_ereco_bins,\n",
    "                          energy_smearing=energy_smearing, \n",
    "                          atm_bckg=atm_bckg, effective_areas=effective_areas,\n",
    "                          livetime=10., signal_model=signal_model, \n",
    "                          spatial_template=gc_template)"
   ]
  },
  {
   "cell_type": "markdown",
   "metadata": {},
   "source": [
    "# Show the template (Full sky, so not really interesting here)"
   ]
  },
  {
   "cell_type": "code",
   "execution_count": null,
   "metadata": {
    "scrolled": false
   },
   "outputs": [],
   "source": [
    "fig = plt.figure(figsize=np.array([15, 5]))\n",
    "spec = fig.add_gridspec(ncols=2, nrows=1)\n",
    "ax = fig.add_subplot(spec[0], projection=\"hammer\")\n",
    "ax2 = fig.add_subplot(spec[1])\n",
    "\n",
    "lon, lat = _trans(gc_ana.ra_bins,np.arcsin(gc_ana.sindec_bins))\n",
    "\n",
    "skymap = gc_ana._spatial_template_mask\n",
    "\n",
    "\n",
    "ax.pcolormesh(lon,lat, skymap.T, cmap='GnBu')\n",
    "ax.fill_between(np.rad2deg(gc_ana.ra_bins), -np.pi/2*np.ones_like(gc_ana.ra_bins), \n",
    "                np.ones_like(gc_ana.ra_bins)*np.deg2rad(-5.),\n",
    "                color='grey', alpha=0.3)\n",
    "\n",
    "\n",
    "\n",
    "p=ax2.pcolormesh(np.rad2deg(gc_ana.ra_bins),gc_ana.sindec_bins, skymap.T, \n",
    "                  cmap='GnBu')\n",
    "ax2.fill_between(np.rad2deg(gc_ana.ra_bins), -np.ones_like(gc_ana.ra_bins), \n",
    "                 np.ones_like(gc_ana.ra_bins)*np.sin(np.deg2rad(-5.)),\n",
    "                color='grey', alpha=0.3)\n",
    "\n",
    "ax2.set_xlabel('right ascension [deg]')\n",
    "ax2.set_ylabel('sin(declination)')\n",
    "\n",
    "fig.colorbar(p, ax=ax2)"
   ]
  },
  {
   "cell_type": "markdown",
   "metadata": {},
   "source": [
    "# Show the integrated event rates vs reconstructed energy"
   ]
  },
  {
   "cell_type": "code",
   "execution_count": null,
   "metadata": {
    "scrolled": true
   },
   "outputs": [],
   "source": [
    "fig, axes = plt.subplots(ncols=2, figsize=(9,4))\n",
    "\n",
    "d_bckg = gc_ana._generate_background_expectation('numu_conv', astro_bckg=False)\n",
    "\n",
    "params = [1.44e-18, 2.28]\n",
    "d_sig = gc_ana._generate_signal_expectation(params)\n",
    "for k,exp_key in enumerate(d_bckg.keys()):\n",
    "\n",
    "    ax =axes[k]\n",
    "    ax.set_title(exp_key)\n",
    "\n",
    "    db = d_bckg[exp_key]\n",
    "    ds = d_sig[exp_key][0]\n",
    "    \n",
    "    ax.plot(gc_ana.ereco_mids, db)\n",
    "    ax.plot(gc_ana.ereco_mids, ds, color='orange')\n",
    "    \n",
    "    ax.set_yscale('log')\n",
    "    ax.set_xscale('log')\n",
    "\n",
    "    ax.set_xlim(1e2,1e7)\n",
    "    ax.set_ylim(1e-4,1.e6)\n",
    "    \n",
    "    ax.set_xlabel('reconstructed energy [GeV]')\n",
    "    ax.set_ylabel('# Events / bin')\n",
    "    \n",
    "    \n",
    "    if 'icecube' in exp_key:\n",
    "    \n",
    "        idata = np.load('/Users/mhuber/Downloads/mc_pass2_IC79_IC86_baseline_V06.npy')\n",
    "\n",
    "        w = (idata['conv']+idata['prompt'])*gc_ana.lt #* idata['trueE']**(-gamma)\n",
    "        ax.hist(10**(idata['logE']), bins=gc_ana.ereco_bins, weights=w, color='blue',\n",
    "                label=r'Atm. $\\nu_{\\mu}$', linewidth=2., histtype='step', alpha=0.7)\n",
    "\n",
    "        w = (idata['astro'])*gc_ana.lt #* idata['trueE']**(-gamma)\n",
    "        ax.hist(10**(idata['logE']), bins=gc_ana.ereco_bins, weights=w, color='orange',\n",
    "                label=r'Astro', linewidth=2., histtype='step', alpha=0.7)\n",
    "\n",
    "fig.tight_layout()\n",
    "\n"
   ]
  },
  {
   "cell_type": "markdown",
   "metadata": {},
   "source": [
    "# Do some background trials "
   ]
  },
  {
   "cell_type": "code",
   "execution_count": null,
   "metadata": {
    "scrolled": false
   },
   "outputs": [],
   "source": [
    "bckg_trials = gc_ana.do_trials(n_trials=1000, \n",
    "                               bckg_kwargs =dict(atm_keys=['numu_conv'], \n",
    "                                                 astro_bckg=False),\n",
    "                              integrate=True)"
   ]
  },
  {
   "cell_type": "code",
   "execution_count": null,
   "metadata": {},
   "outputs": [],
   "source": [
    "sys.path.append('/Users/mhuber/skylab/SVN_stable_v2-03/')\n",
    "from _svnskylab.utils import FitDeltaChi2, delta_chi2"
   ]
  },
  {
   "cell_type": "code",
   "execution_count": null,
   "metadata": {
    "scrolled": true
   },
   "outputs": [],
   "source": [
    "fig, ax = plt.subplots()\n",
    "\n",
    "ts_bins = np.linspace(0,10,25)\n",
    "for exp_key, trials in bckg_trials.items():\n",
    "    ax.hist(trials['ts'], bins=ts_bins, histtype='step', label=exp_key, \n",
    "            density=True)\n",
    "    \n",
    "    eta = np.sum(trials['ts']<=0.1) / float(len(trials))\n",
    "    print(eta)\n",
    "    xvals = get_mids(ts_bins)\n",
    "    fit_func = delta_chi2(eta=0.5, df=2.)\n",
    "    fit_vals = fit_func.pdf(xvals)\n",
    "    fit_vals[:] /= (np.sum(fit_vals) /(fit_func.eta))\n",
    "    ax.plot(xvals, fit_vals / np.diff(xvals)[0] , color='black', lw=2., \n",
    "                label=r'$0.50\\cdot \\chi^2$(dof=1)')\n",
    "    \n",
    "ax.set_xlabel('test statistic value')\n",
    "ax.set_ylabel('pdf')\n",
    "\n",
    "ax.legend()\n",
    "ax.set_yscale('log')\n",
    "\n"
   ]
  },
  {
   "cell_type": "markdown",
   "metadata": {},
   "source": [
    "# Do some trials with injected signal to check if it can be recovered\n"
   ]
  },
  {
   "cell_type": "code",
   "execution_count": null,
   "metadata": {
    "scrolled": true
   },
   "outputs": [],
   "source": [
    "phi0_exp, gamma_exp = 1.44e-18, 2.28\n",
    "n_trials = int(1e3)\n",
    "\n",
    "N = 20\n",
    "pbar = ProgressBar(N,parent=None).start()\n",
    "for k in range(N):\n",
    "\n",
    "    if k ==0:\n",
    "        inj_trials = gc_ana.do_trials(n_trials=n_trials, signal_kwargs={'params':[phi0_exp, gamma_exp]},\n",
    "                               bckg_kwargs =dict(atm_keys=['numu_conv'], astro_bckg=False),\n",
    "                              integrate=True)\n",
    "    else:\n",
    "        inj_i = gc_ana.do_trials(n_trials=n_trials, signal_kwargs={'params':[phi0_exp, gamma_exp]},\n",
    "                               bckg_kwargs =dict(atm_keys=['numu_conv'], astro_bckg=False),\n",
    "                              integrate=True)\n",
    "        for exp_key in inj_trials.keys():\n",
    "            inj_trials[exp_key] = np.append(inj_trials[exp_key], \n",
    "                               inj_i[exp_key] )\n",
    "    pbar.increment()\n",
    "\n",
    "pbar.finish()"
   ]
  },
  {
   "cell_type": "code",
   "execution_count": null,
   "metadata": {
    "scrolled": false
   },
   "outputs": [],
   "source": [
    "fig, axes = plt.subplots(ncols=2,figsize=(9,4))\n",
    "\n",
    "\n",
    "for k, (exp_key, trials) in enumerate(inj_trials.items()):\n",
    "    ax = axes[k]\n",
    "    h,ts_bins, _= ax.hist(trials['ts'],bins=25, histtype='step', label=exp_key, \n",
    "            density=True)\n",
    "    \n",
    "    #print(exp_key, np.median(trials['ts']))\n",
    "    ax.set_yscale('log')\n",
    "    ax.legend()\n",
    "    ax.set_xlabel('test statistic value')\n",
    "    ax.set_ylabel('pdf')\n",
    "    \n",
    "fig.tight_layout()"
   ]
  },
  {
   "cell_type": "code",
   "execution_count": null,
   "metadata": {
    "scrolled": false
   },
   "outputs": [],
   "source": [
    "fs=16\n",
    "fig, axes = plt.subplots(ncols=4,nrows=2,  figsize=(9,5.), sharex='col')\n",
    "\n",
    "for k, (exp_key,trials) in enumerate(inj_trials.items()):\n",
    "    \n",
    "    ################# ts values #######################\n",
    "    ax = axes[k, 0]\n",
    "    bins = np.linspace(0,25, 35)\n",
    "    ax.hist(trials['ts'], bins=35, histtype='step')\n",
    "    ax.set_yscale('log')\n",
    "    if k==1:\n",
    "        ax.set_xlabel(r'$\\Lambda$', fontsize=fs)\n",
    "    ax.set_ylabel(r'pdf', fontsize=fs)\n",
    "    \n",
    "    \n",
    "    ################# phi0 values #######################\n",
    "    ax = axes[k, 1]\n",
    "    bins_phi0 = np.linspace(np.log10(phi100s)[0], np.log10(phi100s)[-1], 80)\n",
    "    ax.hist(np.log10(trials['phi0']), bins=bins_phi0, histtype='step')\n",
    "    \n",
    "    ax.axvline(np.log10(phi0_exp))\n",
    "    if k==1:\n",
    "        ax.set_xlabel(r'$\\phi_{100\\mathrm{TeV}}$', fontsize=fs)\n",
    "    \n",
    "    ################# gamma values #######################\n",
    "    ax = axes[k, 2]\n",
    "    bins_g = np.linspace(gammas[0], gammas[-1], 60)\n",
    "    ax.hist(trials['gamma'], bins=bins_g, histtype='step')\n",
    "    ax.axvline(gamma_exp)\n",
    "    if k==1:\n",
    "        ax.set_xlabel(r'$\\gamma$', fontsize=fs)\n",
    "    \n",
    "    \n",
    "    ################# 2d phi0-gamma values #######################\n",
    "    ax = axes[k, 3]\n",
    "    \n",
    "    p = np.histogram2d(trials['gamma'], np.log10(trials['phi0']),\n",
    "              bins=(bins_g, bins_phi0),  normed=True)\n",
    "    \n",
    "    \n",
    "    p[0][p[0]<1e-3] = 1e-3\n",
    "    p0=ax.pcolormesh(get_mids(p[1]), get_mids(p[2]), p[0].T, \n",
    "                  cmap='GnBu', norm=LogNorm(), vmin=1e-2)#, shading='gouraud')\n",
    "    \n",
    "    fig.colorbar(p0, ax=ax)\n",
    "    \n",
    "    if k==1:\n",
    "        ax.set_xlabel(r'$\\gamma$', fontsize=fs)\n",
    "    #ax.set_ylabel(r'$\\phi_{100\\mathrm{TeV}}$', fontsize=fs)\n",
    "    #fig.colorbar(p[3], ax=ax)\n",
    "    \n",
    "    \n",
    "    # add the contours etc\n",
    "    \n",
    "    unc_mat = p[0].flatten()\n",
    "    X = np.empty((len(unc_mat), ), dtype=[('idx',int), ('p',float)])\n",
    "    X['idx'] = np.arange(len(unc_mat))\n",
    "    X['p'] = unc_mat / np.sum(unc_mat) \n",
    "\n",
    "    X = np.sort(X,order='p')\n",
    "    X['p'] = np.cumsum(X['p'])\n",
    "    X = np.sort(X, order='idx')\n",
    "\n",
    "    Unc_mat = np.copy(X['p'])\n",
    "\n",
    "    \n",
    "    ax.contour(get_mids(p[1]), get_mids(p[2]), Unc_mat.reshape(p[0].shape).T * 100., levels=[5. ], \n",
    "                   linestyles = [ 'solid'], colors=['red'])\n",
    "    \n",
    "\n",
    "    ax.scatter([gamma_exp], [np.log10(phi0_exp)], marker='o', color='black',\n",
    "              zorder=10)\n",
    "    \n",
    "    ax.set_xlim(gamma_exp-0.5, gamma_exp+0.5)\n",
    "    ax.set_ylim(np.log10(phi0_exp)-0.5, np.log10(phi0_exp)+0.5)\n",
    "    \n",
    "fig.tight_layout()"
   ]
  },
  {
   "cell_type": "markdown",
   "metadata": {},
   "source": [
    "# Show both contours in one plot"
   ]
  },
  {
   "cell_type": "code",
   "execution_count": null,
   "metadata": {},
   "outputs": [],
   "source": [
    "fig, ax = plt.subplots( figsize=(7,4.))\n",
    "\n",
    "colors= ['blue', 'orange']\n",
    "labels = {'icecube':'IceCube', 'plenum':'Plenum'}\n",
    "#for k, exp in enumerate(['icecube', 'plenum']):\n",
    "for k, (exp_key,trials) in enumerate(inj_trials.items()):\n",
    "    p = np.histogram2d(trials['gamma'], np.log10(trials['phi0']),\n",
    "              bins=(bins_g, bins_phi0),  normed=True)\n",
    "    \n",
    "    \n",
    "    \n",
    "    \n",
    "    #if exp=='plenum':\n",
    "    #p[0][p[0]<1e-4] = 1e-4\n",
    "    #p0=ax.pcolormesh(get_mids(bins_g), 10**get_mids(bins_phi0), p[0].T, \n",
    "    #              cmap='GnBu', norm=LogNorm(), vmin=1e-3, shading='gouraud')\n",
    "    \n",
    "    #fig.colorbar(p0, ax=ax)\n",
    "    \n",
    "    \n",
    "    # add the contours etc\n",
    "    \n",
    "    unc_mat = p[0].flatten()\n",
    "    X = np.empty((len(unc_mat), ), dtype=[('idx',int), ('p',float)])\n",
    "    X['idx'] = np.arange(len(unc_mat))\n",
    "    X['p'] = unc_mat / np.sum(unc_mat) \n",
    "\n",
    "    X = np.sort(X,order='p')\n",
    "    X['p'] = np.cumsum(X['p'])\n",
    "    X = np.sort(X, order='idx')\n",
    "\n",
    "    Unc_mat = np.copy(X['p'])\n",
    "\n",
    "    \n",
    "    cs= ax.contour(get_mids(bins_g), 10**get_mids(bins_phi0), Unc_mat.reshape(p[0].shape).T * 100., levels=[5. ], \n",
    "                   linestyles = [ 'solid'], colors=[colors[k]],  linewidths=[2.])\n",
    "    \n",
    "    \n",
    "    ax.clabel(cs, inline=0, fontsize=10, inline_spacing=0., fmt={5.:'95\\%'})\n",
    "    \n",
    "    # Now add the contour of the diffuse for comparison\n",
    "    def get_diff(x,y, x0,y0):\n",
    "        return np.sqrt((x-x0)**2 + (y-y0)**2)\n",
    "    dpath = '/Users/mhuber/Documents/PHD_Thesis/PHD_thesis/resources/data/'\n",
    "    diff95 = np.genfromtxt(os.path.join(dpath, 'diffuse95.csv'),delimiter=',')\n",
    "    diff68 = np.genfromtxt(os.path.join(dpath, 'diffuse68.csv'),delimiter=',')\n",
    "\n",
    "\n",
    "    cs = { 'Through-going tracks': 'pink'}\n",
    "    styles = ['solid', 'dashed']\n",
    "    data = { 'Through-going tracks': [diff95]}\n",
    "    for key, val in data.items():\n",
    "\n",
    "        for j, valj in enumerate(val):\n",
    "            dg = valj[:,0]\n",
    "            phi100 = valj[:,1]\n",
    "\n",
    "            ind = np.zeros_like(phi100, dtype=int)\n",
    "            for i in range(len(ind)):\n",
    "                if i==0:\n",
    "                    continue\n",
    "                diff = get_diff(dg, np.log10(phi100), dg[ind[i-1]], np.log10(phi100[ind[i-1]]))\n",
    "                inds = np.argsort(diff)\n",
    "                for k in range(100):\n",
    "                    if not inds[k] in ind:\n",
    "                        ind[i] = inds[k]\n",
    "                        break\n",
    "\n",
    "            ind = np.append(ind, [0])    \n",
    "            ax.plot(dg[ind], phi100[ind]*1e-18, color=cs[key], marker='None',  lw=2, \n",
    "                    ls=styles[j], alpha=0.8)\n",
    "\n",
    "\n",
    "\n",
    "handles, labels = ax.get_legend_handles_labels()\n",
    "#icecube = Line2D(range(1), range(1), color=colors[0],  markerfacecolor=\"None\",\n",
    "#             linewidth=1, label='IceCube')\n",
    "#plenum = Line2D(range(1), range(1), color=colors[1],  markerfacecolor=\"None\",\n",
    "#              linewidth=1, label='Plenum')\n",
    "\n",
    "#handles.append(icecube)\n",
    "#handles.append(plenum)\n",
    "\n",
    "    \n",
    "    \n",
    "    \n",
    "ax.set_xlabel(r'$\\gamma$', fontsize=fs)\n",
    "ax.set_ylabel(r'$\\phi_{100\\mathrm{TeV}}$ [GeV cm$^{-2}$ s$^{-1}$ sr$^{-1}$]', fontsize=fs)\n",
    "      \n",
    "    \n",
    "ax.legend(handles=handles,loc='upper left', frameon=False, fontsize=fs)\n",
    "ax.set_xlim(2, 2.6)\n",
    "ax.set_ylim(7e-19, 3e-18)\n",
    "    \n",
    "ax.set_yscale('log')\n",
    "ax.scatter([gamma_exp], [phi0_exp], marker='o', color='black',\n",
    "              zorder=10)\n",
    "    \n",
    "fig.tight_layout()\n",
    "\n",
    "#fig.savefig('plots/diffuse_analysis_physics_parameter_contour.png', dpi=200)"
   ]
  },
  {
   "cell_type": "code",
   "execution_count": null,
   "metadata": {},
   "outputs": [],
   "source": []
  }
 ],
 "metadata": {
  "kernelspec": {
   "display_name": "Python 3",
   "language": "python",
   "name": "python3"
  },
  "language_info": {
   "codemirror_mode": {
    "name": "ipython",
    "version": 3
   },
   "file_extension": ".py",
   "mimetype": "text/x-python",
   "name": "python",
   "nbconvert_exporter": "python",
   "pygments_lexer": "ipython3",
   "version": "3.6.2"
  }
 },
 "nbformat": 4,
 "nbformat_minor": 4
}
