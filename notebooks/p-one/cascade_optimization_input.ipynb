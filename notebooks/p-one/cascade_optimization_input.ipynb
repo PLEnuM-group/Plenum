{
 "cells": [
  {
   "cell_type": "markdown",
   "metadata": {},
   "source": [
    "# imports"
   ]
  },
  {
   "cell_type": "code",
   "execution_count": 1,
   "metadata": {},
   "outputs": [
    {
     "name": "stdout",
     "output_type": "stream",
     "text": [
      "Could not import healpy.\n",
      "functions plot_area, add_catalog, and add_extended_plane will not work.\n"
     ]
    }
   ],
   "source": [
    "import numpy as np\n",
    "import pandas as pd\n",
    "import warnings\n",
    "import seaborn as sns\n",
    "from scipy.stats import norm, rayleigh, gamma\n",
    "from tools import get_mids\n",
    "from os.path import join\n",
    "from settings import ngc1068, BASEPATH\n",
    "\n",
    "from matplotlib.colors import LogNorm\n",
    "from matplotlib.gridspec import GridSpec\n",
    "matplotlib = sns.mpl\n",
    "plt = matplotlib.pyplot"
   ]
  },
  {
   "cell_type": "code",
   "execution_count": 2,
   "metadata": {},
   "outputs": [],
   "source": [
    "fisher = pd.read_pickle(join(BASEPATH, \"resources/fisher_casc.pickle\"))\n",
    "# give a name to the first index\n",
    "fisher.index.names = ['config', 'spacing', 'energy', 'pmts']"
   ]
  },
  {
   "cell_type": "code",
   "execution_count": 3,
   "metadata": {},
   "outputs": [
    {
     "data": {
      "text/html": [
       "<div>\n",
       "<style scoped>\n",
       "    .dataframe tbody tr th:only-of-type {\n",
       "        vertical-align: middle;\n",
       "    }\n",
       "\n",
       "    .dataframe tbody tr th {\n",
       "        vertical-align: top;\n",
       "    }\n",
       "\n",
       "    .dataframe thead th {\n",
       "        text-align: right;\n",
       "    }\n",
       "</style>\n",
       "<table border=\"1\" class=\"dataframe\">\n",
       "  <thead>\n",
       "    <tr style=\"text-align: right;\">\n",
       "      <th></th>\n",
       "      <th></th>\n",
       "      <th></th>\n",
       "      <th></th>\n",
       "      <th>x</th>\n",
       "      <th>y</th>\n",
       "      <th>z</th>\n",
       "      <th>stheta</th>\n",
       "      <th>sphi</th>\n",
       "      <th>t</th>\n",
       "      <th>logE</th>\n",
       "      <th>ang_res_sampl</th>\n",
       "      <th>theta_deg</th>\n",
       "      <th>phi_deg</th>\n",
       "      <th>ang_res_circ</th>\n",
       "    </tr>\n",
       "    <tr>\n",
       "      <th>config</th>\n",
       "      <th>spacing</th>\n",
       "      <th>energy</th>\n",
       "      <th>pmts</th>\n",
       "      <th></th>\n",
       "      <th></th>\n",
       "      <th></th>\n",
       "      <th></th>\n",
       "      <th></th>\n",
       "      <th></th>\n",
       "      <th></th>\n",
       "      <th></th>\n",
       "      <th></th>\n",
       "      <th></th>\n",
       "      <th></th>\n",
       "    </tr>\n",
       "  </thead>\n",
       "  <tbody>\n",
       "    <tr>\n",
       "      <th rowspan=\"5\" valign=\"top\">Full optimistic triang</th>\n",
       "      <th rowspan=\"5\" valign=\"top\">50.0</th>\n",
       "      <th rowspan=\"3\" valign=\"top\">1000.000000</th>\n",
       "      <th>16</th>\n",
       "      <td>NaN</td>\n",
       "      <td>NaN</td>\n",
       "      <td>NaN</td>\n",
       "      <td>NaN</td>\n",
       "      <td>NaN</td>\n",
       "      <td>NaN</td>\n",
       "      <td>NaN</td>\n",
       "      <td>NaN</td>\n",
       "      <td>NaN</td>\n",
       "      <td>NaN</td>\n",
       "      <td>NaN</td>\n",
       "    </tr>\n",
       "    <tr>\n",
       "      <th>20</th>\n",
       "      <td>NaN</td>\n",
       "      <td>NaN</td>\n",
       "      <td>NaN</td>\n",
       "      <td>NaN</td>\n",
       "      <td>NaN</td>\n",
       "      <td>NaN</td>\n",
       "      <td>NaN</td>\n",
       "      <td>NaN</td>\n",
       "      <td>NaN</td>\n",
       "      <td>NaN</td>\n",
       "      <td>NaN</td>\n",
       "    </tr>\n",
       "    <tr>\n",
       "      <th>24</th>\n",
       "      <td>NaN</td>\n",
       "      <td>NaN</td>\n",
       "      <td>NaN</td>\n",
       "      <td>NaN</td>\n",
       "      <td>NaN</td>\n",
       "      <td>NaN</td>\n",
       "      <td>NaN</td>\n",
       "      <td>NaN</td>\n",
       "      <td>NaN</td>\n",
       "      <td>NaN</td>\n",
       "      <td>NaN</td>\n",
       "    </tr>\n",
       "    <tr>\n",
       "      <th rowspan=\"2\" valign=\"top\">3162.277660</th>\n",
       "      <th>16</th>\n",
       "      <td>NaN</td>\n",
       "      <td>NaN</td>\n",
       "      <td>NaN</td>\n",
       "      <td>NaN</td>\n",
       "      <td>NaN</td>\n",
       "      <td>NaN</td>\n",
       "      <td>NaN</td>\n",
       "      <td>NaN</td>\n",
       "      <td>NaN</td>\n",
       "      <td>NaN</td>\n",
       "      <td>NaN</td>\n",
       "    </tr>\n",
       "    <tr>\n",
       "      <th>20</th>\n",
       "      <td>NaN</td>\n",
       "      <td>NaN</td>\n",
       "      <td>NaN</td>\n",
       "      <td>NaN</td>\n",
       "      <td>NaN</td>\n",
       "      <td>NaN</td>\n",
       "      <td>NaN</td>\n",
       "      <td>NaN</td>\n",
       "      <td>NaN</td>\n",
       "      <td>NaN</td>\n",
       "      <td>NaN</td>\n",
       "    </tr>\n",
       "    <tr>\n",
       "      <th>...</th>\n",
       "      <th>...</th>\n",
       "      <th>...</th>\n",
       "      <th>...</th>\n",
       "      <td>...</td>\n",
       "      <td>...</td>\n",
       "      <td>...</td>\n",
       "      <td>...</td>\n",
       "      <td>...</td>\n",
       "      <td>...</td>\n",
       "      <td>...</td>\n",
       "      <td>...</td>\n",
       "      <td>...</td>\n",
       "      <td>...</td>\n",
       "      <td>...</td>\n",
       "    </tr>\n",
       "    <tr>\n",
       "      <th rowspan=\"5\" valign=\"top\">Full pessimistic triang</th>\n",
       "      <th rowspan=\"5\" valign=\"top\">200.0</th>\n",
       "      <th rowspan=\"2\" valign=\"top\">100000.000000</th>\n",
       "      <th>20</th>\n",
       "      <td>NaN</td>\n",
       "      <td>NaN</td>\n",
       "      <td>NaN</td>\n",
       "      <td>NaN</td>\n",
       "      <td>NaN</td>\n",
       "      <td>NaN</td>\n",
       "      <td>NaN</td>\n",
       "      <td>NaN</td>\n",
       "      <td>NaN</td>\n",
       "      <td>NaN</td>\n",
       "      <td>NaN</td>\n",
       "    </tr>\n",
       "    <tr>\n",
       "      <th>24</th>\n",
       "      <td>NaN</td>\n",
       "      <td>NaN</td>\n",
       "      <td>NaN</td>\n",
       "      <td>NaN</td>\n",
       "      <td>NaN</td>\n",
       "      <td>NaN</td>\n",
       "      <td>NaN</td>\n",
       "      <td>NaN</td>\n",
       "      <td>NaN</td>\n",
       "      <td>NaN</td>\n",
       "      <td>NaN</td>\n",
       "    </tr>\n",
       "    <tr>\n",
       "      <th rowspan=\"3\" valign=\"top\">316227.766017</th>\n",
       "      <th>16</th>\n",
       "      <td>NaN</td>\n",
       "      <td>NaN</td>\n",
       "      <td>NaN</td>\n",
       "      <td>NaN</td>\n",
       "      <td>NaN</td>\n",
       "      <td>NaN</td>\n",
       "      <td>NaN</td>\n",
       "      <td>NaN</td>\n",
       "      <td>NaN</td>\n",
       "      <td>NaN</td>\n",
       "      <td>NaN</td>\n",
       "    </tr>\n",
       "    <tr>\n",
       "      <th>20</th>\n",
       "      <td>NaN</td>\n",
       "      <td>NaN</td>\n",
       "      <td>NaN</td>\n",
       "      <td>NaN</td>\n",
       "      <td>NaN</td>\n",
       "      <td>NaN</td>\n",
       "      <td>NaN</td>\n",
       "      <td>NaN</td>\n",
       "      <td>NaN</td>\n",
       "      <td>NaN</td>\n",
       "      <td>NaN</td>\n",
       "    </tr>\n",
       "    <tr>\n",
       "      <th>24</th>\n",
       "      <td>NaN</td>\n",
       "      <td>NaN</td>\n",
       "      <td>NaN</td>\n",
       "      <td>NaN</td>\n",
       "      <td>NaN</td>\n",
       "      <td>NaN</td>\n",
       "      <td>NaN</td>\n",
       "      <td>NaN</td>\n",
       "      <td>NaN</td>\n",
       "      <td>NaN</td>\n",
       "      <td>NaN</td>\n",
       "    </tr>\n",
       "  </tbody>\n",
       "</table>\n",
       "<p>648 rows × 11 columns</p>\n",
       "</div>"
      ],
      "text/plain": [
       "                                                     x   y   z  stheta  sphi  \\\n",
       "config                  spacing energy        pmts                             \n",
       "Full optimistic triang  50.0    1000.000000   16   NaN NaN NaN     NaN   NaN   \n",
       "                                              20   NaN NaN NaN     NaN   NaN   \n",
       "                                              24   NaN NaN NaN     NaN   NaN   \n",
       "                                3162.277660   16   NaN NaN NaN     NaN   NaN   \n",
       "                                              20   NaN NaN NaN     NaN   NaN   \n",
       "...                                                 ..  ..  ..     ...   ...   \n",
       "Full pessimistic triang 200.0   100000.000000 20   NaN NaN NaN     NaN   NaN   \n",
       "                                              24   NaN NaN NaN     NaN   NaN   \n",
       "                                316227.766017 16   NaN NaN NaN     NaN   NaN   \n",
       "                                              20   NaN NaN NaN     NaN   NaN   \n",
       "                                              24   NaN NaN NaN     NaN   NaN   \n",
       "\n",
       "                                                     t  logE  ang_res_sampl  \\\n",
       "config                  spacing energy        pmts                            \n",
       "Full optimistic triang  50.0    1000.000000   16   NaN   NaN            NaN   \n",
       "                                              20   NaN   NaN            NaN   \n",
       "                                              24   NaN   NaN            NaN   \n",
       "                                3162.277660   16   NaN   NaN            NaN   \n",
       "                                              20   NaN   NaN            NaN   \n",
       "...                                                 ..   ...            ...   \n",
       "Full pessimistic triang 200.0   100000.000000 20   NaN   NaN            NaN   \n",
       "                                              24   NaN   NaN            NaN   \n",
       "                                316227.766017 16   NaN   NaN            NaN   \n",
       "                                              20   NaN   NaN            NaN   \n",
       "                                              24   NaN   NaN            NaN   \n",
       "\n",
       "                                                    theta_deg  phi_deg  \\\n",
       "config                  spacing energy        pmts                       \n",
       "Full optimistic triang  50.0    1000.000000   16          NaN      NaN   \n",
       "                                              20          NaN      NaN   \n",
       "                                              24          NaN      NaN   \n",
       "                                3162.277660   16          NaN      NaN   \n",
       "                                              20          NaN      NaN   \n",
       "...                                                       ...      ...   \n",
       "Full pessimistic triang 200.0   100000.000000 20          NaN      NaN   \n",
       "                                              24          NaN      NaN   \n",
       "                                316227.766017 16          NaN      NaN   \n",
       "                                              20          NaN      NaN   \n",
       "                                              24          NaN      NaN   \n",
       "\n",
       "                                                    ang_res_circ  \n",
       "config                  spacing energy        pmts                \n",
       "Full optimistic triang  50.0    1000.000000   16             NaN  \n",
       "                                              20             NaN  \n",
       "                                              24             NaN  \n",
       "                                3162.277660   16             NaN  \n",
       "                                              20             NaN  \n",
       "...                                                          ...  \n",
       "Full pessimistic triang 200.0   100000.000000 20             NaN  \n",
       "                                              24             NaN  \n",
       "                                316227.766017 16             NaN  \n",
       "                                              20             NaN  \n",
       "                                              24             NaN  \n",
       "\n",
       "[648 rows x 11 columns]"
      ]
     },
     "execution_count": 3,
     "metadata": {},
     "output_type": "execute_result"
    }
   ],
   "source": [
    "fisher[fisher.isna()]\n"
   ]
  },
  {
   "cell_type": "markdown",
   "metadata": {},
   "source": [
    "# loading effective areas\n"
   ]
  },
  {
   "cell_type": "code",
   "execution_count": 4,
   "metadata": {},
   "outputs": [],
   "source": [
    "cosT_bins, logE_bins, aeffs = pd.read_pickle(\n",
    "    join(BASEPATH, \"resources/aeff_cluster_nuecc_with-eq.pickle\")\n",
    ")\n"
   ]
  },
  {
   "cell_type": "code",
   "execution_count": 5,
   "metadata": {},
   "outputs": [],
   "source": [
    "# check if any values are negative, just in case...\n",
    "for i, aeff in aeffs.iterrows():\n",
    "    v = np.count_nonzero(aeff[\"aeff_hist\"].flatten() < 0)\n",
    "    if v>0:\n",
    "        print(aeff[\"aeff_hist\"][aeff[\"aeff_hist\"]<0])\n",
    "        break"
   ]
  },
  {
   "cell_type": "markdown",
   "metadata": {},
   "source": [
    "## binning"
   ]
  },
  {
   "cell_type": "code",
   "execution_count": 6,
   "metadata": {},
   "outputs": [
    {
     "name": "stdout",
     "output_type": "stream",
     "text": [
      "40 log_10(energy) bins\n",
      "40 log_10(reco energy) bins\n",
      "39 declination bins\n"
     ]
    }
   ],
   "source": [
    "aeff = aeffs.iloc[0][\"aeff_hist\"]\n",
    "logE_mids = get_mids(logE_bins)\n",
    "ebins = np.power(10, logE_bins)\n",
    "emids = get_mids(ebins)\n",
    "ewidth = np.diff(ebins)\n",
    "\n",
    "logE_reco_bins = np.linspace(logE_bins[0], logE_bins[-1], num=len(logE_bins))\n",
    "logE_reco_mids = get_mids(logE_reco_bins)\n",
    "\n",
    "cosT_mids = get_mids(cosT_bins)\n",
    "cosT_width = np.diff(cosT_bins)\n",
    "\n",
    "ra_bins = np.linspace(0, np.pi * 2, num=101)\n",
    "ra_mids = (ra_bins[1:] + ra_bins[:-1]) * 0.5\n",
    "ra_width = ra_bins[1:] - ra_bins[:-1]\n",
    "\n",
    "print(len(emids), \"log_10(energy) bins\")\n",
    "print(len(logE_reco_mids), \"log_10(reco energy) bins\")\n",
    "print(len(cosT_mids), \"declination bins\")"
   ]
  },
  {
   "cell_type": "code",
   "execution_count": 7,
   "metadata": {},
   "outputs": [
    {
     "data": {
      "text/plain": [
       "<matplotlib.colorbar.Colorbar at 0x7f4fb3f056c0>"
      ]
     },
     "execution_count": 7,
     "metadata": {},
     "output_type": "execute_result"
    },
    {
     "data": {
      "image/png": "[encoded data removed]",
      "text/plain": [
       "<Figure size 432x288 with 2 Axes>"
      ]
     },
     "metadata": {
      "needs_background": "light"
     },
     "output_type": "display_data"
    }
   ],
   "source": [
    "plt.pcolormesh(logE_bins, cosT_bins, aeff, norm=LogNorm()) #vmin=1E-5, vmax=1\n",
    "plt.xlabel(\"log (E/GeV)\")\n",
    "plt.ylabel(\"cos(theta)\")\n",
    "plt.colorbar()"
   ]
  },
  {
   "cell_type": "markdown",
   "metadata": {},
   "source": [
    "# rotate to global coordinates"
   ]
  },
  {
   "cell_type": "code",
   "execution_count": 8,
   "metadata": {},
   "outputs": [],
   "source": [
    "from aeff_calculations import setup_aeff_grid, aeff_rotation\n",
    "from settings import poles"
   ]
  },
  {
   "cell_type": "code",
   "execution_count": 9,
   "metadata": {},
   "outputs": [],
   "source": [
    "aeff_eq = []\n",
    "k = \"P-ONE\"\n",
    "for aeff in aeffs[\"aeff_hist\"]:\n",
    "    grid2d, eq_coords = setup_aeff_grid(\n",
    "        aeff.T, cosT_mids, ra_mids, ra_width\n",
    "    )\n",
    "\n",
    "    aeff_eq.append(aeff_rotation(\n",
    "        poles[k][\"lat\"], poles[k][\"lon\"], eq_coords, grid2d, ra_width\n",
    "    ) *1E4 ) # m^2 -> cm^2\n",
    "aeffs[\"equatorial\"] = aeff_eq"
   ]
  },
  {
   "cell_type": "code",
   "execution_count": 10,
   "metadata": {},
   "outputs": [],
   "source": [
    "pd.to_pickle(\n",
    "    (cosT_bins, logE_bins, aeffs),\n",
    "    join(BASEPATH, \"resources/aeff_cluster_nuecc_with-eq.pickle\"),\n",
    ")\n"
   ]
  },
  {
   "cell_type": "markdown",
   "metadata": {},
   "source": [
    "# plotting comp"
   ]
  },
  {
   "cell_type": "code",
   "execution_count": 11,
   "metadata": {},
   "outputs": [
    {
     "data": {
      "image/png": "[encoded data removed]",
      "text/plain": [
       "<Figure size 432x288 with 2 Axes>"
      ]
     },
     "metadata": {
      "needs_background": "light"
     },
     "output_type": "display_data"
    },
    {
     "data": {
      "image/png": "[encoded data removed]",
      "text/plain": [
       "<Figure size 432x288 with 2 Axes>"
      ]
     },
     "metadata": {
      "needs_background": "light"
     },
     "output_type": "display_data"
    }
   ],
   "source": [
    "plt.figure()\n",
    "plt.pcolormesh(\n",
    "    logE_bins, cosT_bins, aeffs.iloc[7][\"aeff_hist\"], #norm=LogNorm(vmin=1e-5, vmax=1)\n",
    ")\n",
    "plt.xlabel(\"log (E/GeV)\")\n",
    "plt.ylabel(\"cos(theta)\")\n",
    "cb = plt.colorbar()\n",
    "cb.set_label(\"Aeff / cm^2\")\n",
    "\n",
    "\n",
    "plt.figure()\n",
    "plt.pcolormesh(\n",
    "    logE_bins, cosT_bins, aeffs.iloc[7][\"equatorial\"].T, #norm=LogNorm(vmin=1e-5, vmax=1)\n",
    ")\n",
    "plt.xlabel(\"log (E/GeV)\")\n",
    "plt.ylabel(\"sin(dec)\")\n",
    "cb = plt.colorbar()\n",
    "cb.set_label(\"Aeff / cm^2\")\n"
   ]
  },
  {
   "cell_type": "markdown",
   "metadata": {},
   "source": [
    "# load fisher information data"
   ]
  },
  {
   "cell_type": "code",
   "execution_count": 12,
   "metadata": {},
   "outputs": [],
   "source": [
    "fisher = pd.read_pickle(join(BASEPATH, \"resources/fisher_casc.pickle\"))\n",
    "# give a name to the first index\n",
    "fisher.index.names = ['config', 'spacing', 'energy', 'pmts']"
   ]
  },
  {
   "cell_type": "code",
   "execution_count": 13,
   "metadata": {},
   "outputs": [
    {
     "data": {
      "text/plain": [
       "82.90660948813483"
      ]
     },
     "execution_count": 13,
     "metadata": {},
     "output_type": "execute_result"
    }
   ],
   "source": [
    "fisher.ang_res_sampl.max()"
   ]
  },
  {
   "cell_type": "markdown",
   "metadata": {},
   "source": [
    "## testing with plots"
   ]
  },
  {
   "cell_type": "code",
   "execution_count": 14,
   "metadata": {},
   "outputs": [
    {
     "name": "stdout",
     "output_type": "stream",
     "text": [
      "('Full optimistic triang', 50.0, 16)\n",
      "config: Full optimistic triang, spacing: 50.0, pmts: 16, \n"
     ]
    },
    {
     "data": {
      "image/png": "[encoded data removed]",
      "text/plain": [
       "<Figure size 576x432 with 2 Axes>"
      ]
     },
     "metadata": {
      "needs_background": "light"
     },
     "output_type": "display_data"
    },
    {
     "data": {
      "image/png": "[encoded data removed]",
      "text/plain": [
       "<Figure size 432x288 with 2 Axes>"
      ]
     },
     "metadata": {
      "needs_background": "light"
     },
     "output_type": "display_data"
    },
    {
     "data": {
      "image/png": "[encoded data removed]",
      "text/plain": [
       "<Figure size 432x288 with 2 Axes>"
      ]
     },
     "metadata": {
      "needs_background": "light"
     },
     "output_type": "display_data"
    },
    {
     "data": {
      "image/png": "[encoded data removed]",
      "text/plain": [
       "<Figure size 432x288 with 2 Axes>"
      ]
     },
     "metadata": {
      "needs_background": "light"
     },
     "output_type": "display_data"
    }
   ],
   "source": [
    "for ident, series in fisher.groupby([\"config\", \"spacing\", \"pmts\"]):\n",
    "    print(ident)\n",
    "    ident_str = \"\"\n",
    "    for val, name in zip(ident, [\"config\", \"spacing\", \"pmts\"]):\n",
    "        ident_str += \": \".join([name, str(val)]) + \", \"\n",
    "    print(ident_str)\n",
    "    true_E = series.index.get_level_values(2).values\n",
    "    width_E = series.logE.values\n",
    "    width_psi = series.ang_res_sampl.values\n",
    "    width_E_floor = 0.05 / np.log(10)\n",
    "\n",
    "    # interpolate\n",
    "    fig = plt.figure(figsize=(8, 6))\n",
    "    fig.suptitle(ident_str)\n",
    "\n",
    "    gs = GridSpec(2, 1, height_ratios=[4, 1])\n",
    "    ax1 = fig.add_subplot(gs[0])\n",
    "\n",
    "    # energy width\n",
    "    fit_we = np.poly1d(np.polyfit(np.log10(true_E), np.log10(width_E), 1))\n",
    "    p1 = ax1.plot(true_E, width_E, marker=\"o\", lw=0, label=r\"$\\Delta \\log(E)$, data\")\n",
    "    ax1.plot(true_E, 10 ** fit_we(np.log10(true_E)), label=r\"$\\Delta \\log(E)$, fit\")\n",
    "    ax1.axhline(\n",
    "        width_E_floor, label=r\"$\\Delta \\log(E)$, floor 5%\", color=\"k\", ls=\"--\", lw=1\n",
    "    )\n",
    "\n",
    "    # psi\n",
    "    fit_wps = np.poly1d(np.polyfit(np.log10(true_E), np.log10(width_psi), 1))\n",
    "    p2 = ax1.plot(\n",
    "        true_E, width_psi, marker=\"o\", lw=0, label=r\"$\\Psi / {\\rm deg}$, data\"\n",
    "    )\n",
    "    ax1.plot(true_E, 10 ** fit_wps(np.log10(true_E)), label=r\"$\\Psi / {\\rm deg}$, fit\")\n",
    "\n",
    "    ax1.set_xscale(\"log\")\n",
    "    ax1.set_yscale(\"log\")\n",
    "    ax1.tick_params(axis=\"x\", labelbottom=False)\n",
    "    ax1.legend(loc=\"center left\", bbox_to_anchor=(1, 0.5), framealpha=0)\n",
    "    ax1.set_ylim(1e-3, 10)\n",
    "\n",
    "    ax2 = fig.add_subplot(gs[1])\n",
    "\n",
    "    ax2.plot(\n",
    "        true_E,\n",
    "        width_E / 10 ** fit_we(np.log10(true_E)),\n",
    "        marker=\"o\",\n",
    "        lw=0,\n",
    "        label=r\"$\\Delta \\log(E)$, data/fit\",\n",
    "        color=p1[0].get_color(),\n",
    "    )\n",
    "    ax2.plot(\n",
    "        true_E,\n",
    "        width_psi / 10 ** fit_wps(np.log10(true_E)),\n",
    "        marker=\"o\",\n",
    "        lw=0,\n",
    "        label=r\"$\\Psi / {\\rm deg}$, data/fit\",\n",
    "        color=p2[0].get_color(),\n",
    "    )\n",
    "    ax2.axhline(1, color=\"k\", ls=\"--\", lw=1)\n",
    "    ax2.set_xscale(\"log\")\n",
    "    ax2.set_xlabel(r\"$E_{\\rm true} / {\\rm GeV}$\")\n",
    "    fig.tight_layout()\n",
    "\n",
    "    # energy resolution\n",
    "    eres_all = []\n",
    "    for et in logE_mids:\n",
    "        if 10 ** fit_we(et) <= width_E_floor:\n",
    "            tmp = width_E_floor\n",
    "        else:\n",
    "            tmp = 10 ** fit_we(et)\n",
    "        # integrate over bin\n",
    "        eres = norm.cdf(logE_reco_bins[1:], loc=et, scale=tmp) - norm.cdf(\n",
    "            logE_reco_bins[:-1], loc=et, scale=tmp\n",
    "        )\n",
    "        eres_all.append(eres / np.sum(eres))  # normalize\n",
    "    eres_all = np.array(eres_all).T\n",
    "    plt.figure()\n",
    "    plt.pcolormesh(logE_bins, logE_reco_bins, eres_all)  # , norm=LogNorm(vmin=1e-5))\n",
    "    plt.xlabel(r\"$\\log_{10}(E_{\\rm true} / {\\rm GeV})$\")\n",
    "    plt.ylabel(r\"$\\log_{10}(E_{\\rm reco} / {\\rm GeV})$\")\n",
    "    plt.title(ident_str)\n",
    "    plt.colorbar()\n",
    "\n",
    "    # angular resolution\n",
    "    ## based on psi\n",
    "    psi_max = 3* 10 ** fit_wps(logE_mids[0])\n",
    "    if psi_max > 90:\n",
    "        psi_max = 90\n",
    "    \n",
    "    psi_bins = np.linspace(0, psi_max, num=50)\n",
    "    psi_mids = get_mids(psi_bins)\n",
    "    psi_all = []\n",
    "    for et in logE_mids:\n",
    "        # integrate over bin\n",
    "        tmp = rayleigh.cdf(psi_bins[1:], loc=0, scale=10 ** fit_wps(et)) - rayleigh.cdf(\n",
    "            psi_bins[:-1], loc=0, scale=10 ** fit_wps(et)\n",
    "        )\n",
    "        psi_all.append(tmp / np.sum(tmp))\n",
    "    psi_all = np.array(psi_all).T\n",
    "\n",
    "    plt.figure()\n",
    "    plt.pcolormesh(logE_bins, psi_bins, psi_all, norm=LogNorm(vmin=1e-5))\n",
    "    plt.xlabel(r\"$\\log_{10}(E_{\\rm true} / {\\rm GeV})$\")\n",
    "    plt.ylabel(r\"$\\Psi / {\\rm deg} $\")\n",
    "    plt.title(ident_str)\n",
    "    plt.plot(logE_mids, 10 ** fit_wps(logE_mids), color=\"tab:orange\")\n",
    "    plt.colorbar()\n",
    "\n",
    "    ## based on psi²\n",
    "    psi2_bins = np.arange(0, psi_max**2, step=0.1)\n",
    "    psi2_mids = get_mids(psi2_bins)\n",
    "    psi2_all = []\n",
    "    for et in logE_mids:\n",
    "        # integrate over bin\n",
    "        tmp = gamma.cdf(\n",
    "            psi2_bins[1:], 1, scale=2 * (10 ** fit_wps(et)) ** 2\n",
    "        ) - gamma.cdf(psi2_bins[:-1], 1, scale=2 * (10 ** fit_wps(et)) ** 2)\n",
    "        psi2_all.append(tmp / np.sum(tmp))\n",
    "    psi2_all = np.array(psi2_all).T\n",
    "\n",
    "    plt.figure()\n",
    "    plt.pcolormesh(logE_bins, psi2_bins, psi2_all, norm=LogNorm(vmin=1e-5))\n",
    "    plt.xlabel(r\"$\\log_{10}(E_{\\rm true} / {\\rm GeV})$\")\n",
    "    plt.ylabel(r\"$(\\Psi / {\\rm deg})^2$\")\n",
    "    plt.title(ident_str)\n",
    "    plt.colorbar()\n",
    "    break\n",
    "    plt.show()\n"
   ]
  },
  {
   "cell_type": "markdown",
   "metadata": {},
   "source": [
    "## looping over all settings (without plots)"
   ]
  },
  {
   "cell_type": "code",
   "execution_count": 15,
   "metadata": {},
   "outputs": [],
   "source": [
    "from scipy.interpolate import RegularGridInterpolator"
   ]
  },
  {
   "cell_type": "code",
   "execution_count": 16,
   "metadata": {},
   "outputs": [],
   "source": [
    "pdlist = []\n",
    "for ident, series in fisher.groupby([\"config\", \"spacing\", \"pmts\"]):\n",
    "    dct = {\"config\": ident[0], \"spacing\": ident[1], \"pmts\": ident[2]}\n",
    "\n",
    "    true_E = series.index.get_level_values(2).values\n",
    "    width_E = series.logE.values\n",
    "    width_psi = series.ang_res_sampl.values\n",
    "    width_E_floor = 0.05 / np.log(10)\n",
    "\n",
    "    # interpolate\n",
    "    ## energy width\n",
    "    fit_we = np.poly1d(np.polyfit(np.log10(true_E), np.log10(width_E), 1))\n",
    "    ## psi\n",
    "    fit_wps = np.poly1d(np.polyfit(np.log10(true_E), np.log10(width_psi), 1))\n",
    "\n",
    "    # energy resolution\n",
    "    eres_all = []\n",
    "    for et in logE_mids:\n",
    "        if 10 ** fit_we(et) <= width_E_floor:\n",
    "            tmp = width_E_floor\n",
    "        else:\n",
    "            tmp = 10 ** fit_we(et)\n",
    "        # integrate over bin\n",
    "        eres = norm.cdf(logE_reco_bins[1:], loc=et, scale=tmp) - norm.cdf(\n",
    "            logE_reco_bins[:-1], loc=et, scale=tmp\n",
    "        )\n",
    "        eres_all.append(eres / np.sum(eres))\n",
    "    eres_all = np.array(eres_all).T\n",
    "    dct[\"energy_res\"] = eres_all\n",
    "    dct[\"energy_rgi\"] = RegularGridInterpolator((logE_reco_mids, logE_mids), eres_all)\n",
    "    dct[\"etrue_bins\"] = logE_bins\n",
    "    dct[\"ereco_bins\"] = logE_reco_bins\n",
    "\n",
    "    ## based on psi²\n",
    "    psi_max = 5 * 10 ** fit_wps(logE_mids[0])\n",
    "    if psi_max > 90:\n",
    "        psi_max = 90\n",
    "    reso_psi2_bins = np.arange(0, psi_max**2, step=0.1)\n",
    "    reso_psi2_mids = get_mids(reso_psi2_bins)\n",
    "    psi2_all = []\n",
    "    for et in logE_mids:\n",
    "        # integrate over bin\n",
    "        tmp = gamma.cdf(\n",
    "            reso_psi2_bins[1:], 1, scale=2 * (10 ** fit_wps(et)) ** 2\n",
    "        ) - gamma.cdf(reso_psi2_bins[:-1], 1, scale=2 * (10 ** fit_wps(et)) ** 2)\n",
    "        psi2_all.append(tmp / np.sum(tmp))\n",
    "    psi2_all = np.array(psi2_all).T\n",
    "    dct[\"psi2\"] = psi2_all\n",
    "    dct[\"psi2_bins\"] = reso_psi2_bins\n",
    "\n",
    "    pdlist.append(dct)\n",
    "pd_save = pd.DataFrame(pdlist)\n"
   ]
  },
  {
   "cell_type": "code",
   "execution_count": 17,
   "metadata": {},
   "outputs": [],
   "source": [
    "pd.to_pickle(pd_save, join(BASEPATH, \"resources/optimization_resolutions.pickle\"))"
   ]
  },
  {
   "cell_type": "code",
   "execution_count": 18,
   "metadata": {},
   "outputs": [
    {
     "ename": "BaseException",
     "evalue": " C;> ",
     "output_type": "error",
     "traceback": [
      "\u001b[0;31m---------------------------------------------------------------------------\u001b[0m",
      "\u001b[0;31mBaseException\u001b[0m                             Traceback (most recent call last)",
      "\u001b[1;32m/home/lisajsch/repos/Plenum/notebooks/p-one/cascade_optimization_input.ipynb Cell 26\u001b[0m in \u001b[0;36m<cell line: 1>\u001b[0;34m()\u001b[0m\n\u001b[0;32m----> <a href='vscode-notebook-cell:/home/lisajsch/repos/Plenum/notebooks/p-one/cascade_optimization_input.ipynb#X41sZmlsZQ%3D%3D?line=0'>1</a>\u001b[0m \u001b[39mraise\u001b[39;00m \u001b[39mBaseException\u001b[39;00m(\u001b[39m\"\u001b[39m\u001b[39m C;> \u001b[39m\u001b[39m\"\u001b[39m)\n",
      "\u001b[0;31mBaseException\u001b[0m:  C;> "
     ]
    }
   ],
   "source": [
    "raise BaseException(\" C;> \")"
   ]
  },
  {
   "cell_type": "markdown",
   "metadata": {},
   "source": [
    "# testing: psi -> psi² == Rayleigh(s) -> Gamma(1, 2 * s²)"
   ]
  },
  {
   "cell_type": "code",
   "execution_count": null,
   "metadata": {},
   "outputs": [
    {
     "data": {
      "text/plain": [
       "[<matplotlib.lines.Line2D at 0x7f21b41420e0>]"
      ]
     },
     "execution_count": 21,
     "metadata": {},
     "output_type": "execute_result"
    },
    {
     "data": {
      "image/png": "[encoded data removed]",
      "text/plain": [
       "<Figure size 432x288 with 1 Axes>"
      ]
     },
     "metadata": {
      "needs_background": "light"
     },
     "output_type": "display_data"
    }
   ],
   "source": [
    "sigma = 3\n",
    "nsamp = int(1E4)\n",
    "\n",
    "xs = np.linspace(0, 14)\n",
    "x = rayleigh.rvs(scale=sigma, size=nsamp)\n",
    "ax = sns.histplot(x, stat=\"density\")\n",
    "ax.plot(xs, rayleigh.pdf(xs, scale=sigma))"
   ]
  },
  {
   "cell_type": "code",
   "execution_count": null,
   "metadata": {},
   "outputs": [
    {
     "data": {
      "text/plain": [
       "[<matplotlib.lines.Line2D at 0x7f21dc218a90>]"
      ]
     },
     "execution_count": 22,
     "metadata": {},
     "output_type": "execute_result"
    },
    {
     "data": {
      "image/png": "[encoded data removed]",
      "text/plain": [
       "<Figure size 432x288 with 1 Axes>"
      ]
     },
     "metadata": {
      "needs_background": "light"
     },
     "output_type": "display_data"
    }
   ],
   "source": [
    "xs = np.linspace(0, 14**2)\n",
    "x = rayleigh.rvs(scale=sigma, size=nsamp) ** 2\n",
    "ax = sns.histplot(x, stat=\"density\")\n",
    "ax.plot(xs, gamma.pdf(xs, 1, scale= 2 * sigma ** 2))"
   ]
  },
  {
   "cell_type": "code",
   "execution_count": null,
   "metadata": {},
   "outputs": [],
   "source": []
  }
 ],
 "metadata": {
  "kernelspec": {
   "display_name": "Python 3.10.4 ('Plenum-kM6XdhCv')",
   "language": "python",
   "name": "python3"
  },
  "language_info": {
   "codemirror_mode": {
    "name": "ipython",
    "version": 3
   },
   "file_extension": ".py",
   "mimetype": "text/x-python",
   "name": "python",
   "nbconvert_exporter": "python",
   "pygments_lexer": "ipython3",
   "version": "3.10.4"
  },
  "orig_nbformat": 4,
  "vscode": {
   "interpreter": {
    "hash": "ce9583ac5360888d2c927c1184ce2bb85c925148753e2b5ec3bdf76daf172c05"
   }
  }
 },
 "nbformat": 4,
 "nbformat_minor": 2
}
