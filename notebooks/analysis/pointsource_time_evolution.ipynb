{
 "cells": [
  {
   "cell_type": "code",
   "execution_count": 1,
   "metadata": {},
   "outputs": [],
   "source": [
    "%load_ext autoreload\n",
    "%autoreload 2"
   ]
  },
  {
   "cell_type": "markdown",
   "metadata": {},
   "source": [
    "# Imports"
   ]
  },
  {
   "cell_type": "code",
   "execution_count": 2,
   "metadata": {},
   "outputs": [],
   "source": [
    "import pickle\n",
    "from collections import namedtuple\n",
    "from itertools import product\n",
    "from copy import copy\n",
    "from os.path import join\n",
    "\n",
    "import numpy as np\n",
    "import pandas as pd\n",
    "import seaborn as sns\n",
    "from aeff_calculations import calc_aeff_factor\n",
    "from fluxes import (\n",
    "    astro_flux,\n",
    "    atmo_background,\n",
    "    cut_off,\n",
    "    power_law,\n",
    ")\n",
    "import mephisto\n",
    "from matplotlib.colors import LogNorm\n",
    "from scipy.optimize import fmin_l_bfgs_b\n",
    "from scipy.interpolate import InterpolatedUnivariateSpline\n",
    "\n",
    "from scipy.stats import chi2, norm\n",
    "from settings import *\n",
    "from tools import array_source_interp, poisson_llh, get_scaler\n",
    "from tqdm import tqdm\n",
    "from matplotlib.patches import Rectangle"
   ]
  },
  {
   "cell_type": "code",
   "execution_count": 3,
   "metadata": {},
   "outputs": [],
   "source": [
    "# energy resolution files\n",
    "e_res_files = {\n",
    "    \"baseline\": join(LOCALPATH, \"energy_smearing_GP_up.pckl\"),\n",
    "    \"improved-50\": join(\n",
    "        LOCALPATH, \"improved_0.5_artificial_energy_smearing_GP_up.pckl\"\n",
    "    ),\n",
    "}\n"
   ]
  },
  {
   "cell_type": "markdown",
   "metadata": {},
   "source": [
    "# helper functions"
   ]
  },
  {
   "cell_type": "code",
   "execution_count": 4,
   "metadata": {},
   "outputs": [],
   "source": [
    "def scaling_estimation(\n",
    "    df, current_thresholds, scaler, nmax=20, min_steps=1, stop_here=0.1, stepper=1.5\n",
    "):\n",
    "    \"\"\"Estimate the best flux scaling factor to reach the current\n",
    "    p-value threshold based on interpolating the recent tests with\n",
    "    different scaling factors\"\"\"\n",
    "\n",
    "    # start with two values for the scaling factor\n",
    "    if len(df) <= min_steps:\n",
    "        scaler_new = scaler / stepper\n",
    "        return scaler_new\n",
    "\n",
    "    # check if we already sampled close enough to the threshold\n",
    "    if abs(df.iloc[-1][\"log10(p)\"] + np.log10(current_thresholds[0])) < stop_here:\n",
    "        # when we found one pval close to the threshold,\n",
    "        # pick the next threshold\n",
    "        _ = current_thresholds.pop(0)\n",
    "        if len(current_thresholds) == 0:\n",
    "            return -1\n",
    "\n",
    "    # do the interpolation\n",
    "    # pick the first threshold from the list\n",
    "    scaler_new = get_scaler(df, current_thresholds[0])\n",
    "\n",
    "    if scaler_new <= 0 or np.isnan(scaler_new):\n",
    "        # in case something went wrong\n",
    "        # some random value to get started again\n",
    "        print(\"scaling went wrong:\", scaler_new)\n",
    "        scaler_new = np.random.uniform(1.5, 3.5) / df.iloc[-1][\"SosB\"]\n",
    "\n",
    "    # break the optimization loop once we reached nmax\n",
    "    if len(df) == nmax:\n",
    "        print(\n",
    "            \"Optimization failed! Diff is:\",\n",
    "            df.iloc[-1][\"log10(p)\"] + np.log10(current_thresholds[0]),\n",
    "            \"thresh is:\",\n",
    "            current_thresholds[0],\n",
    "        )\n",
    "        _ = current_thresholds.pop(0)\n",
    "    return scaler_new\n"
   ]
  },
  {
   "cell_type": "markdown",
   "metadata": {},
   "source": [
    "# Effective area\n",
    "\n",
    "We use here only upgoing events with dec>-5deg, since this is the threshold for a pure data set with few muons."
   ]
  },
  {
   "cell_type": "code",
   "execution_count": 5,
   "metadata": {},
   "outputs": [],
   "source": [
    "with open(join(LOCALPATH, \"effective_area_MH_upgoing.pckl\"), \"rb\") as f:\n",
    "    aeff_2d = pickle.load(f)\n"
   ]
  },
  {
   "attachments": {},
   "cell_type": "markdown",
   "metadata": {},
   "source": [
    "# Atmospheric background\n",
    "Actually, we would need to account for the different zenith regions of a source, if the detector is not at one of the poles.\n",
    "This is currently not yet implemented"
   ]
  },
  {
   "cell_type": "code",
   "execution_count": 6,
   "metadata": {},
   "outputs": [
    {
     "name": "stdout",
     "output_type": "stream",
     "text": [
      "Elementary arithmetic possible.\n",
      "True\n"
     ]
    }
   ],
   "source": [
    "with open(join(LOCALPATH, \"atmospheric_background_MH.pckl\"), \"rb\") as f:\n",
    "    bckg_histo = pickle.load(f)\n",
    "\n",
    "# check if histos are matching\n",
    "print(bckg_histo.match(aeff_2d[\"IceCube\"], verbose=True))\n"
   ]
  },
  {
   "attachments": {},
   "cell_type": "markdown",
   "metadata": {},
   "source": [
    "# Energy resolution function"
   ]
  },
  {
   "cell_type": "code",
   "execution_count": 8,
   "metadata": {},
   "outputs": [
    {
     "name": "stdout",
     "output_type": "stream",
     "text": [
      "Matrix multiplication possible.\n",
      "True\n"
     ]
    }
   ],
   "source": [
    "# baseline resolution\n",
    "with open(e_res_files[\"baseline\"], \"rb\") as f:\n",
    "    baseline_eres = pickle.load(f)\n",
    "baseline_eres.normalize(axis=1)  # normalize per logE_true\n",
    "\n",
    "# resolution improved by 50%\n",
    "with open(e_res_files[\"improved-50\"], \"rb\") as f:\n",
    "    improved_eres = pickle.load(f)\n",
    "improved_eres.normalize(axis=1)  # normalize per logE_true\n",
    "\n",
    "# checking if matrix multiplication is possible\n",
    "print(aeff_2d[\"IceCube\"].match_matmul(baseline_eres, verbose=True))\n"
   ]
  },
  {
   "cell_type": "markdown",
   "metadata": {},
   "source": [
    "# Psi²-Energy resolution\n",
    "\n",
    "NOTE: psi changes per detector over the day. For the sake of (optimistic) simplicity, we choose the horizontal resolution for all detectors"
   ]
  },
  {
   "cell_type": "code",
   "execution_count": 9,
   "metadata": {},
   "outputs": [],
   "source": [
    "# angular resolution\n",
    "with open(join(LOCALPATH, \"Psi2_res_mephistograms.pckl\"), \"rb\") as f:\n",
    "    all_psi = pickle.load(f)\n",
    "e_psi2_grid = all_psi[\"dec-0.0\"]\n",
    "e_psi2_grid.normalize()\n",
    "\n",
    "# uniform, normalized background grid\n",
    "bckg_psi2_grid = mephisto.like(e_psi2_grid, fill_value=1)\n",
    "bckg_psi2_grid.normalize()\n"
   ]
  },
  {
   "cell_type": "markdown",
   "metadata": {},
   "source": [
    "# Flux definition"
   ]
  },
  {
   "cell_type": "code",
   "execution_count": 10,
   "metadata": {},
   "outputs": [],
   "source": [
    "# we base the flux models on named-tuples\n",
    "PL_flux = namedtuple(\"PL_flux\", \"norm gamma E0 shape\")\n",
    "PLcut_flux = namedtuple(\"PLcut_flux\", \"norm gamma e_cut E0 shape\")\n",
    "LogP_flux = namedtuple(\"LogP_flux\", \"norm alpha beta E0 shape\")\n",
    "\n",
    "flux_collection = {\n",
    "    \"powerlaw\": PL_flux,\n",
    "    \"powerlaw with cutoff\": PLcut_flux,\n",
    "    \"log-parabola\": LogP_flux,\n",
    "}\n"
   ]
  },
  {
   "cell_type": "markdown",
   "metadata": {},
   "source": [
    "## NGC1068 source parameters"
   ]
  },
  {
   "cell_type": "code",
   "execution_count": 11,
   "metadata": {},
   "outputs": [],
   "source": [
    "# ngc flux error contour\n",
    "gamma_c_68, phi_c_68 = np.loadtxt(join(LOCALPATH, \"ngc_paper_68_contour.txt\"))\n",
    "phi_c_68 /= 1e11\n",
    "gamma_c_68_prev, phi_c_68_prev = np.loadtxt(\n",
    "    join(LOCALPATH, \"tenyr_paper_68_contour.txt\")\n",
    ")\n",
    "\n",
    "ngc_flux = PL_flux(PHI_NGC, GAMMA_NGC, E0_NGC, \"powerlaw\")\n"
   ]
  },
  {
   "cell_type": "code",
   "execution_count": 12,
   "metadata": {},
   "outputs": [],
   "source": [
    "# generic source config without dec coordinate\n",
    "src_config = dict(\n",
    "    sindec_mids=sindec_mids,\n",
    "    livetime=LIVETIME,\n",
    "    ewidth=ewidth,\n",
    "    dpsi_max=0,\n",
    "    grid_2d=e_psi2_grid,\n",
    ")\n",
    "# generic bg config\n",
    "bg_config = copy(src_config)\n",
    "bg_config[\"dpsi_max\"] = delta_psi_max\n",
    "bg_config[\"grid_2d\"] = bckg_psi2_grid\n",
    "\n",
    "# ... with ngc declination\n",
    "ngc_src_config = copy(src_config)\n",
    "ngc_src_config[\"dec\"] = ngc1068.dec.rad\n",
    "ngc_bg_config = copy(bg_config)\n",
    "ngc_bg_config[\"dec\"] = ngc1068.dec.rad\n"
   ]
  },
  {
   "cell_type": "markdown",
   "metadata": {},
   "source": [
    "## Check event numbers"
   ]
  },
  {
   "cell_type": "code",
   "execution_count": 13,
   "metadata": {},
   "outputs": [
    {
     "name": "stdout",
     "output_type": "stream",
     "text": [
      "ngc 1068: 85.16201580234389\n"
     ]
    }
   ],
   "source": [
    "ident = \"IceCube\"\n",
    "# check that the bins match\n",
    "assert (aeff_2d[ident].bins[1] == ngc_src_config[\"grid_2d\"].bins[1]).all()\n",
    "aeff_factor_signal = calc_aeff_factor(aeff_2d[ident], **ngc_src_config)\n",
    "\n",
    "k_s = astro_flux(\n",
    "    aeff_factor_signal,\n",
    "    emids,\n",
    "    energy_resolution=baseline_eres,\n",
    "    phi_scaling=1,\n",
    "    flux_shape=ngc_flux,\n",
    ")\n",
    "print(\"ngc 1068:\", np.sum(k_s))  # ~85\n"
   ]
  },
  {
   "cell_type": "markdown",
   "metadata": {},
   "source": [
    "## PL+Cut: source parameters"
   ]
  },
  {
   "cell_type": "code",
   "execution_count": 14,
   "metadata": {},
   "outputs": [],
   "source": [
    "# cutoff parameters\n",
    "# see energy_spectrum_wiggle.ipynb for 'optimization'\n",
    "# of these parameters\n",
    "Gamma_cut = 2.0\n",
    "logE_cut = 3.5  # log10 (Ecut / GeV)\n",
    "\n",
    "tmp_flux = PLcut_flux(PHI_NGC, Gamma_cut, logE_cut, E0_NGC, \"powerlaw with cutoff\")\n"
   ]
  },
  {
   "cell_type": "markdown",
   "metadata": {},
   "source": [
    "\n",
    "### scale the fluxes such that the event numbers match\n"
   ]
  },
  {
   "cell_type": "code",
   "execution_count": 15,
   "metadata": {},
   "outputs": [
    {
     "name": "stdout",
     "output_type": "stream",
     "text": [
      "flux_scaling_cut 1.428068799090645\n",
      "flux normalization before 5e-14 after 7.140343995453226e-14\n"
     ]
    }
   ],
   "source": [
    "## check event numbers\n",
    "aeff_factor_signal = calc_aeff_factor(aeff_2d[ident], **ngc_src_config)\n",
    "astro_ev_sum_pl = np.sum(\n",
    "    astro_flux(\n",
    "        aeff_factor_signal,\n",
    "        emids,\n",
    "        baseline_eres,\n",
    "        1,\n",
    "        ngc_flux,\n",
    "    )\n",
    ")\n",
    "\n",
    "# cutoff\n",
    "astro_ev_sum_cut = np.sum(\n",
    "    astro_flux(\n",
    "        aeff_factor_signal,\n",
    "        emids,\n",
    "        baseline_eres,\n",
    "        1,\n",
    "        tmp_flux,\n",
    "    )\n",
    ")\n",
    "flux_scaling_cut = astro_ev_sum_pl / astro_ev_sum_cut\n",
    "print(\"flux_scaling_cut\", flux_scaling_cut)\n",
    "print(\"flux normalization before\", PHI_NGC, \"after\", PHI_NGC * flux_scaling_cut)\n",
    "\n",
    "# define the correctly normalized PL+cut flux for NGC 1068\n",
    "ngc_cut_flux = PLcut_flux(\n",
    "    PHI_NGC * flux_scaling_cut, Gamma_cut, logE_cut, E0_NGC, \"powerlaw with cutoff\"\n",
    ")\n"
   ]
  },
  {
   "attachments": {},
   "cell_type": "markdown",
   "metadata": {},
   "source": [
    "# Set up LLH function\n",
    "$ \\mathcal{L}({\\rm data}~k~ |~{\\rm hypothesis}~\\mu)\n",
    "    = \\prod_{{\\rm bin\\,}ij}^{N_{\\rm bins}} \\frac{\\mu_{ij}^{k_{ij}}}{k_{ij}!}\\cdot\n",
    "    \\exp \\left( -\\mu_{ij} \\right)$\n",
    "\n",
    "\n",
    "Background hypothesis $H_0(\\mu = N_B)$ : only atmospheric neutrino flux\n",
    "\n",
    "Signal hypothesis $H_1(\\mu = \\{N_B, N_S, \\gamma\\})$: atmospheric neutrino flux + astrophysical neutrino flux\n",
    "\n",
    "Idea: data ($k$) are the perfect representation of our expectation; the hypothesis ($\\mu$) is the model with the free parameters we'd like to know\n",
    "\n"
   ]
  },
  {
   "cell_type": "code",
   "execution_count": 16,
   "metadata": {},
   "outputs": [],
   "source": [
    "def ps_llh_2d_composite(\n",
    "    x,\n",
    "    mu_b_base,\n",
    "    mu_s_base,\n",
    "    k_i,\n",
    "    e_0,\n",
    "    phi_0,\n",
    "    shape,\n",
    "    energy_resolution,\n",
    "    verbose=False,\n",
    "):\n",
    "    \"\"\"fit parameters in x:\n",
    "    x[0]: background normalization scaling\n",
    "    x[1]: signal normalization scaling\n",
    "    x[2:]: other signal parameters\n",
    "        see 'astro_flux' for further shapes and parameters\n",
    "\n",
    "    mu_b_base: background baseline\n",
    "    mu_s_base: effective area factor for signal\n",
    "    k_i: observation/asimov data\n",
    "    e_0: normalization energy, default E0_NGC\n",
    "    phi_0: normalization flux, default PHI_NGC\n",
    "    shape: flux shape\n",
    "    \"\"\"\n",
    "    mu_b = mu_b_base * x[0]\n",
    "    mu_s = astro_flux(\n",
    "        mu_s_base,\n",
    "        emids,\n",
    "        energy_resolution,\n",
    "        x[1],\n",
    "        flux_collection[shape](\n",
    "            phi_0, *x[2:], e_0, shape\n",
    "        ),  # here we generate a flux tuple with the current parameters\n",
    "    )\n",
    "    if verbose:\n",
    "        print(x[0], x[1], *x[2:])\n",
    "        print(flux_collection[shape](phi_0, *x[2:], e_0, shape))\n",
    "        print(np.sum(mu_b), np.sum(mu_s))\n",
    "    mu_i = mu_s + mu_b\n",
    "\n",
    "    return poisson_llh(mu_i, k_i)\n"
   ]
  },
  {
   "attachments": {},
   "cell_type": "markdown",
   "metadata": {},
   "source": [
    "# Livetime and detector scaling\n",
    "timesteps:\n",
    "\n",
    "now (2020): IceCube has 9yrs data\n",
    "\n",
    "2025: \n",
    "*   GVD starts\n",
    "*   KM3Net starts\n",
    "*   IceCube +5yr = 14 yr\n",
    "\n",
    "2030: \n",
    "*   P-ONE starts\n",
    "*   GVD +5yr = 5yr\n",
    "*   KM3Net +5yr = 5yr\n",
    "*   IceCube +5yr = 19 yr\n",
    "\n",
    "2035:\n",
    "*   Gen-2 starts \n",
    "*   P-ONE +5yr = 5yr\n",
    "*   GVD +5yr = 10yr\n",
    "*   KM3Net +5yr = 10yr\n",
    "*   IceCube +5yr = 24 yr\n",
    "\n",
    "2040:\n",
    "*   Gen-2 +5yr = 5yr\n",
    "*   P-ONE +5yr = 10yr\n",
    "*   GVD +5yr = 15yr\n",
    "*   KM3Net +5yr = 15yr\n",
    "*   IceCube stays 24 yr, after Gen2 is build"
   ]
  },
  {
   "attachments": {},
   "cell_type": "markdown",
   "metadata": {},
   "source": [
    "## setup"
   ]
  },
  {
   "cell_type": "code",
   "execution_count": 316,
   "metadata": {},
   "outputs": [
    {
     "data": {
      "text/html": [
       "<div>\n",
       "<style scoped>\n",
       "    .dataframe tbody tr th:only-of-type {\n",
       "        vertical-align: middle;\n",
       "    }\n",
       "\n",
       "    .dataframe tbody tr th {\n",
       "        vertical-align: top;\n",
       "    }\n",
       "\n",
       "    .dataframe thead th {\n",
       "        text-align: right;\n",
       "    }\n",
       "</style>\n",
       "<table border=\"1\" class=\"dataframe\">\n",
       "  <thead>\n",
       "    <tr style=\"text-align: right;\">\n",
       "      <th></th>\n",
       "      <th>IceCube</th>\n",
       "      <th>KM3NeT</th>\n",
       "      <th>Baikal-GVD</th>\n",
       "      <th>P-ONE</th>\n",
       "      <th>Gen-2</th>\n",
       "    </tr>\n",
       "    <tr>\n",
       "      <th>year</th>\n",
       "      <th></th>\n",
       "      <th></th>\n",
       "      <th></th>\n",
       "      <th></th>\n",
       "      <th></th>\n",
       "    </tr>\n",
       "  </thead>\n",
       "  <tbody>\n",
       "    <tr>\n",
       "      <th>2020</th>\n",
       "      <td>9</td>\n",
       "      <td>0</td>\n",
       "      <td>0</td>\n",
       "      <td>0</td>\n",
       "      <td>0</td>\n",
       "    </tr>\n",
       "    <tr>\n",
       "      <th>2025</th>\n",
       "      <td>14</td>\n",
       "      <td>0</td>\n",
       "      <td>0</td>\n",
       "      <td>0</td>\n",
       "      <td>0</td>\n",
       "    </tr>\n",
       "    <tr>\n",
       "      <th>2030</th>\n",
       "      <td>19</td>\n",
       "      <td>5</td>\n",
       "      <td>5</td>\n",
       "      <td>0</td>\n",
       "      <td>0</td>\n",
       "    </tr>\n",
       "    <tr>\n",
       "      <th>2035</th>\n",
       "      <td>24</td>\n",
       "      <td>10</td>\n",
       "      <td>10</td>\n",
       "      <td>5</td>\n",
       "      <td>0</td>\n",
       "    </tr>\n",
       "    <tr>\n",
       "      <th>2040</th>\n",
       "      <td>24</td>\n",
       "      <td>15</td>\n",
       "      <td>15</td>\n",
       "      <td>10</td>\n",
       "      <td>5</td>\n",
       "    </tr>\n",
       "    <tr>\n",
       "      <th>2045</th>\n",
       "      <td>24</td>\n",
       "      <td>20</td>\n",
       "      <td>20</td>\n",
       "      <td>15</td>\n",
       "      <td>10</td>\n",
       "    </tr>\n",
       "    <tr>\n",
       "      <th>2050</th>\n",
       "      <td>24</td>\n",
       "      <td>25</td>\n",
       "      <td>25</td>\n",
       "      <td>20</td>\n",
       "      <td>15</td>\n",
       "    </tr>\n",
       "  </tbody>\n",
       "</table>\n",
       "</div>"
      ],
      "text/plain": [
       "      IceCube  KM3NeT  Baikal-GVD  P-ONE  Gen-2\n",
       "year                                           \n",
       "2020        9       0           0      0      0\n",
       "2025       14       0           0      0      0\n",
       "2030       19       5           5      0      0\n",
       "2035       24      10          10      5      0\n",
       "2040       24      15          15     10      5\n",
       "2045       24      20          20     15     10\n",
       "2050       24      25          25     20     15"
      ]
     },
     "execution_count": 316,
     "metadata": {},
     "output_type": "execute_result"
    }
   ],
   "source": [
    "icecube_ref_time = 9  # ... years of full detector (NGC 1068 analysis)\n",
    "\n",
    "start_dates = [\n",
    "    {\"detector\": \"IceCube\", \"year\": 2010},\n",
    "    {\"detector\": \"KM3NeT\", \"year\": 2025},\n",
    "    {\"detector\": \"Baikal-GVD\", \"year\": 2025},\n",
    "    {\"detector\": \"P-ONE\", \"year\": 2030},\n",
    "    {\"detector\": \"Gen-2\", \"year\": 2035},\n",
    "]\n",
    "start_dates = pd.DataFrame(start_dates)\n",
    "start_dates[\"colors\"] = list(sns.cubehelix_palette(start=1.7, rot=3, light=0.6, dark=0.4, n_colors=5, hue=1))\n",
    "\n",
    "timeline_config = [\n",
    "    {\"year\": 2020, \"IceCube\": 9, \"KM3NeT\": 0, \"Baikal-GVD\": 0, \"P-ONE\": 0, \"Gen-2\": 0},\n",
    "    {\n",
    "        \"year\": 2025,\n",
    "        \"IceCube\": 9 + 5,\n",
    "        \"KM3NeT\": 0,\n",
    "        \"Baikal-GVD\": 0,\n",
    "        \"P-ONE\": 0,\n",
    "        \"Gen-2\": 0,\n",
    "    },  # KM3 & GVD start\n",
    "    {\n",
    "        \"year\": 2030,\n",
    "        \"IceCube\": 9 + 5 + 5,\n",
    "        \"KM3NeT\": 5,\n",
    "        \"Baikal-GVD\": 5,\n",
    "        \"P-ONE\": 0,\n",
    "        \"Gen-2\": 0,\n",
    "    },  # P-ONE starts\n",
    "    {\n",
    "        \"year\": 2035,\n",
    "        \"IceCube\": 9 + 5 + 5 + 5,\n",
    "        \"KM3NeT\": 5 + 5,\n",
    "        \"Baikal-GVD\": 5 + 5,\n",
    "        \"P-ONE\": 5,\n",
    "        \"Gen-2\": 0,\n",
    "    },  # Gen2 starts\n",
    "    {\n",
    "        \"year\": 2040,\n",
    "        \"IceCube\": 9 + 5 + 5 + 5,\n",
    "        \"KM3NeT\": 5 + 5 + 5,\n",
    "        \"Baikal-GVD\": 5 + 5 + 5,\n",
    "        \"P-ONE\": 5 + 5,\n",
    "        \"Gen-2\": 5,\n",
    "    },\n",
    "    {\n",
    "        \"year\": 2045,\n",
    "        \"IceCube\": 9 + 5 + 5 + 5,\n",
    "        \"KM3NeT\": 5 + 5 + 5 + 5,\n",
    "        \"Baikal-GVD\": 5 + 5 + 5 + 5,\n",
    "        \"P-ONE\": 5 + 5 + 5,\n",
    "        \"Gen-2\": 5 + 5,\n",
    "    },\n",
    "        {\n",
    "        \"year\": 2050,\n",
    "        \"IceCube\": 9 + 5 + 5 + 5,\n",
    "        \"KM3NeT\": 5 + 5 + 5 + 5 + 5,\n",
    "        \"Baikal-GVD\": 5 + 5 + 5 + 5 + 5,\n",
    "        \"P-ONE\": 5 + 5 + 5 + 5,\n",
    "        \"Gen-2\": 5 + 5 + 5,\n",
    "    },\n",
    "]\n",
    "timeline_config = pd.DataFrame(timeline_config).set_index(\"year\")\n",
    "timeline_config\n"
   ]
  },
  {
   "cell_type": "markdown",
   "metadata": {},
   "source": [
    "## analysis"
   ]
  },
  {
   "cell_type": "code",
   "execution_count": 317,
   "metadata": {},
   "outputs": [],
   "source": [
    "tmp = []  # save output here\n",
    "thresholds = [sigma3, sigma5]\n",
    "decs = [-30, 0, 30]\n",
    "other_idents = [\"KM3NeT\", \"Baikal-GVD\", \"P-ONE\", \"Gen-2\"]\n",
    "for dec in decs:\n",
    "    rad_dec = np.deg2rad(dec)\n",
    "    for idx, series in timeline_config.iterrows():\n",
    "        # skip Southern Sky for IceCube-only config\n",
    "        if dec < 0 and idx <= 2025:\n",
    "            continue\n",
    "\n",
    "        # IceCube Baseline\n",
    "        ident = \"IceCube\"\n",
    "        aeff_factor_bckg = calc_aeff_factor(\n",
    "            aeff_2d[ident], dec=rad_dec, **bg_config\n",
    "        ) * (series[ident] / icecube_ref_time)\n",
    "        aeff_factor_signal = calc_aeff_factor(\n",
    "            aeff_2d[ident], dec=rad_dec, **src_config\n",
    "        ) * (series[ident] / icecube_ref_time)\n",
    "        for _oident in other_idents:\n",
    "            aeff_factor_bckg += calc_aeff_factor(\n",
    "                aeff_2d[_oident], dec=rad_dec, **bg_config\n",
    "            ) * (series[_oident] / icecube_ref_time)\n",
    "            aeff_factor_signal += calc_aeff_factor(\n",
    "                aeff_2d[_oident], dec=rad_dec, **src_config\n",
    "            ) * (series[_oident] / icecube_ref_time)\n",
    "\n",
    "        # asimov data\n",
    "        k_b = atmo_background(\n",
    "            aeff_factor_bckg,\n",
    "            array_source_interp(rad_dec, bckg_histo, sindec_mids, axis=1),\n",
    "            energy_resolution=improved_eres,\n",
    "        )\n",
    "        k_s = astro_flux(\n",
    "            aeff_factor_signal,\n",
    "            emids,\n",
    "            energy_resolution=improved_eres,\n",
    "            phi_scaling=1,\n",
    "            flux_shape=ngc_cut_flux,\n",
    "        )\n",
    "        # calculate an estimate for the flux scaling\n",
    "        scaler = 8 / (np.sum(k_s) / np.sqrt(np.sum(k_b)))\n",
    "        current_thresholds = copy(thresholds)\n",
    "        while len(current_thresholds) > 0:\n",
    "\n",
    "            k_s = astro_flux(\n",
    "                aeff_factor_signal,\n",
    "                emids,\n",
    "                energy_resolution=improved_eres,\n",
    "                phi_scaling=scaler,\n",
    "                flux_shape=ngc_cut_flux,\n",
    "            )\n",
    "            k_i = k_s + k_b\n",
    "\n",
    "            dct = dict(\n",
    "                mu_b_base=k_b,\n",
    "                mu_s_base=aeff_factor_signal,\n",
    "                k_i=k_i,\n",
    "                e_0=ngc_cut_flux.E0,\n",
    "                phi_0=ngc_cut_flux.norm,\n",
    "                energy_resolution=improved_eres,\n",
    "            )\n",
    "            # fix signal contribution to powerlaw\n",
    "            local_llh = lambda x: ps_llh_2d_composite(x, shape=\"powerlaw\", **dct)\n",
    "            global_llh = lambda x: ps_llh_2d_composite(\n",
    "                x, shape=\"powerlaw with cutoff\", **dct\n",
    "            )\n",
    "            out_bckg = fmin_l_bfgs_b(\n",
    "                local_llh,\n",
    "                x0=(1.2, 1.2, GAMMA_NGC),\n",
    "                bounds=[(0, 10), (0, 10), (1, 5)],\n",
    "                approx_grad=True,\n",
    "            )\n",
    "\n",
    "            out_comp = fmin_l_bfgs_b(\n",
    "                global_llh,\n",
    "                x0=(1.2, scaler, Gamma_cut, logE_cut),\n",
    "                approx_grad=True,\n",
    "            )\n",
    "\n",
    "            tmp_dct = {\n",
    "                \"dec_label\": f\"{dec}°\",\n",
    "                \"dec\": dec,\n",
    "                \"year\": idx,\n",
    "                \"scaler\": scaler,\n",
    "                #\"cur_thresh\": current_thresholds[0],\n",
    "                \"SosB\": np.sum(k_s) / np.sqrt(np.sum(k_b)),\n",
    "                \"n_b\": np.sum(k_b),\n",
    "                \"n_sig\": np.sum(k_s),\n",
    "                \"log10(p)\": -np.log10(chi2.sf(out_bckg[1] - out_comp[1], 2)),\n",
    "            }\n",
    "            tmp.append(tmp_dct)\n",
    "            tmp_df = pd.DataFrame(tmp)\n",
    "            mask = (\n",
    "                (tmp_df.dec == dec)\n",
    "                & (tmp_df.year == idx)\n",
    "                #& (tmp_df.cur_thresh == current_thresholds[0])\n",
    "            )\n",
    "            scaler = scaling_estimation(\n",
    "                tmp_df.loc[mask], current_thresholds, scaler, stop_here=0.1\n",
    "            )\n",
    "\n",
    "            if scaler == -1:\n",
    "                break\n",
    "\n",
    "df = pd.DataFrame(tmp)\n",
    "df.to_pickle(join(LOCALPATH, \"timeline_disc_pot_spectral.pickle\"))\n"
   ]
  },
  {
   "cell_type": "code",
   "execution_count": 318,
   "metadata": {},
   "outputs": [],
   "source": [
    "flux = pd.DataFrame(\n",
    "    df.groupby([\"year\", \"dec\", \"dec_label\"]).apply(lambda x: get_scaler(x, sigma3))\n",
    "    * ngc_cut_flux.norm,\n",
    "    columns=[\"dp_flux\"],\n",
    ").reset_index()\n",
    "flux[\"sigma\"] = 3\n",
    "\n",
    "tmp = pd.DataFrame(\n",
    "    df.groupby([\"year\", \"dec\", \"dec_label\"]).apply(lambda x: get_scaler(x, sigma5))\n",
    "    * ngc_cut_flux.norm,\n",
    "    columns=[\"dp_flux\"],\n",
    ").reset_index()\n",
    "tmp[\"sigma\"] = 5\n",
    "\n",
    "flux = pd.concat([flux, tmp], ignore_index=True)\n",
    "\n",
    "tmp = pd.DataFrame(\n",
    "    df.groupby([\"year\", \"dec\", \"dec_label\"]).apply(lambda x: get_scaler(x, sigma2))\n",
    "    * ngc_cut_flux.norm,\n",
    "    columns=[\"dp_flux\"],\n",
    ").reset_index()\n",
    "tmp[\"sigma\"] = 2\n",
    "\n",
    "flux = pd.concat([flux, tmp], ignore_index=True)\n",
    "\n",
    "flux[\"scaled_flux\"] = flux.dp_flux * 1E13"
   ]
  },
  {
   "cell_type": "markdown",
   "metadata": {},
   "source": [
    "## plotting"
   ]
  },
  {
   "cell_type": "code",
   "execution_count": 328,
   "metadata": {},
   "outputs": [
    {
     "data": {
      "text/plain": [
       "Text(0.5, 0.98, 'Spectral discrimination ($3 \\\\sigma$ level): PL vs. EC ')"
      ]
     },
     "execution_count": 328,
     "metadata": {},
     "output_type": "execute_result"
    },
    {
     "data": {
      "image/png": "[encoded data removed]",
      "text/plain": [
       "<Figure size 600x600 with 1 Axes>"
      ]
     },
     "metadata": {},
     "output_type": "display_data"
    }
   ],
   "source": [
    "f, ax = plt.subplots(figsize=(6, 6))\n",
    "\n",
    "edge = 2\n",
    "ax.set_ylim(0, edge)\n",
    "xmax = 2048\n",
    "width = 1.25e-1\n",
    "\n",
    "ax.axvline(2020)\n",
    "ax.text(2020.5, edge - 0.5 * width, \"Data release\", ha=\"left\", va=\"center\", fontsize=\"x-large\")\n",
    "\n",
    "for idx, series in start_dates.iterrows():\n",
    "    edge -= width\n",
    "    ax.add_patch(Rectangle((series.year, edge), 50, width, color=series.colors))\n",
    "    ax.text(x=xmax, y=edge + 0.5 * width, s=series.detector, ha=\"right\", va=\"center\", fontsize=\"x-large\")\n",
    "\n",
    "ax = sns.lineplot(\n",
    "    data=flux.loc[flux.sigma == 3],\n",
    "    x=\"year\",\n",
    "    y=\"scaled_flux\",\n",
    "    hue=\"dec_label\",\n",
    "    hue_order=[\"-30°\", \"0°\", \"30°\"],\n",
    "    style=\"dec_label\",\n",
    "    units=\"dec\",\n",
    "    markers=[\"s\", \"o\", \"v\"],\n",
    "    ms=12,\n",
    "    lw=3,\n",
    "    palette=\"crest\",\n",
    ")\n",
    "legend = ax.legend(\n",
    "    loc=\"upper center\",\n",
    "    frameon=False,\n",
    "    ncol=3,\n",
    "    bbox_to_anchor=(0.5, 1.25),\n",
    "    columnspacing=0.8,\n",
    "    title=\"Source declination:\"\n",
    ")\n",
    "plt.setp(legend.get_title(), fontsize='xx-large')\n",
    "\n",
    "ax.set_xlim(2018, xmax)\n",
    "ax.set_ylabel(\n",
    "    r\"$10^{13} \\times \\phi_{0, \\rm EC}^{1\\rm TeV} ~ / \\rm GeV^{-1} \\, cm^{-2} \\, s^{-1}$\",\n",
    ")\n",
    "ax.axhline(ngc_cut_flux.norm * 1e13, ls=\"--\", lw=2, color=\"k\", zorder=0)\n",
    "ax.axhline(ngc_cut_flux.norm * 1e13 / 2, ls=\"--\", lw=2, color=\"0.5\", zorder=0)\n",
    "ax.axhline(ngc_cut_flux.norm * 1e13 / 5, ls=\":\", lw=2, color=\"0.7\", zorder=0)\n",
    "\n",
    "\n",
    "\n",
    "\n",
    "f.subplots_adjust(top=0.78)\n",
    "f.suptitle(\"Spectral discrimination ($3 \\sigma$ level): PL vs. EC \", fontsize=\"xx-large\")\n"
   ]
  },
  {
   "cell_type": "code",
   "execution_count": null,
   "metadata": {},
   "outputs": [],
   "source": []
  }
 ],
 "metadata": {
  "kernelspec": {
   "display_name": "PLEnuM",
   "language": "python",
   "name": "python3"
  },
  "language_info": {
   "codemirror_mode": {
    "name": "ipython",
    "version": 3
   },
   "file_extension": ".py",
   "mimetype": "text/x-python",
   "name": "python",
   "nbconvert_exporter": "python",
   "pygments_lexer": "ipython3",
   "version": "3.10.8"
  },
  "orig_nbformat": 4,
  "vscode": {
   "interpreter": {
    "hash": "0ba996df2b34c8b838a6723f471b00873bd81d83dd405585774c96822ec1df43"
   }
  }
 },
 "nbformat": 4,
 "nbformat_minor": 2
}
