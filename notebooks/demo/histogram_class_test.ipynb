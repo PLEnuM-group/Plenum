{
 "cells": [
  {
   "cell_type": "code",
   "execution_count": 72,
   "metadata": {},
   "outputs": [],
   "source": [
    "import numpy as np\n",
    "import pickle\n",
    "import matplotlib.pyplot as plt\n",
    "\n",
    "from tools import get_mids"
   ]
  },
  {
   "cell_type": "code",
   "execution_count": 176,
   "metadata": {},
   "outputs": [],
   "source": [
    "class Mephistogram:\n",
    "    \"\"\"My elegantly programmed histogram class.\n",
    "    \n",
    "    Currently only working for 1D and 2D histograms.\n",
    "    \"\"\"\n",
    "\n",
    "    def __init__(self, histo, bins, axis_names=None):\n",
    "        \"\"\"TODO\"\"\"\n",
    "        self.histo = histo\n",
    "        self.ndim = np.ndim(self.histo)\n",
    "        self.shape = np.shape(self.histo)\n",
    "        self.set_bins(bins)\n",
    "        self.set_names(axis_names)\n",
    "\n",
    "    def __repr__(self) -> str:\n",
    "        rep_str = f\"Mephistogram with {self.ndim} dimensions and shape {self.shape}.\"\n",
    "        rep_str += f\"\\nAxis names are {self.axis_names}.\"\n",
    "        return rep_str\n",
    "\n",
    "\n",
    "    def set_bins(self, bins):\n",
    "        \"\"\"TODO\"\"\"\n",
    "        if self.ndim > 1:\n",
    "            # check that we got the correct number of bin edges\n",
    "            assert self.ndim == len(\n",
    "                bins\n",
    "            ), \"The number of bins should match the histogram dimensions.\"\n",
    "\n",
    "            bin_mids = []\n",
    "            for idx, b in enumerate(bins):\n",
    "                # check the correct bin length\n",
    "                assert (\n",
    "                    len(b) == self.shape[idx] + 1\n",
    "                ), \"The bin length should match the corresponding histogram axis length.\"\n",
    "\n",
    "                bin_mids.append(get_mids(b))  # calc the bin mids\n",
    "            self.bin_mids = tuple(bin_mids)\n",
    "        else:\n",
    "            # check the correct bin length\n",
    "            assert (\n",
    "                len(bins) == self.shape[0] + 1\n",
    "            ), \"The bin length should match the corresponding histogram axis length.\"\n",
    "\n",
    "            self.bin_mids = get_mids(bins)  # calc the bin mids\n",
    "        # set bins\n",
    "        self.bins = bins\n",
    "\n",
    "    def set_names(self, axis_names):\n",
    "        \"\"\"TODO\"\"\"\n",
    "        # generate default axis names\n",
    "        if axis_names is None:\n",
    "            axis_names = (\n",
    "                \"axis-0\"\n",
    "                if self.ndim == 1\n",
    "                else tuple([f\"axis-{i}\" for i in range(self.ndim)])\n",
    "            )\n",
    "\n",
    "        # check for the correct number of axis names\n",
    "        if self.ndim == 1:\n",
    "            assert type(axis_names) is str\n",
    "        else:\n",
    "            assert self.ndim == len(\n",
    "                axis_names\n",
    "            ), \"The number of axis_names should match the histogram dimensions.\"\n",
    "\n",
    "        # set names\n",
    "        self.axis_names = axis_names\n",
    "\n",
    "    def match(self, mephisto, matmul=False, verbose=False):\n",
    "        \"\"\"TODO\"\"\"\n",
    "        if matmul:\n",
    "            # only for ndim==2\n",
    "            if self.ndim != 2:\n",
    "                raise NotImplementedError(\"Ö\")\n",
    "\n",
    "            if self.shape[1] == mephisto.shape[0] and (self.bins[1] == mephisto.bins[0]).all():\n",
    "                if verbose: print(\"Matrix multiplication possible.\")\n",
    "                return True\n",
    "            else:\n",
    "                if verbose: print(\"Matrix multiplication not possible.\")\n",
    "                return False\n",
    "\n",
    "        else:\n",
    "            if self.shape == mephisto.shape and self.bins == mephisto.bins:\n",
    "                if verbose: print(\"Elementary arithmetic possible.\")\n",
    "                return True\n",
    "            else:\n",
    "                if verbose: print(\"Elementary arithmetic not possible.\")\n",
    "                return False\n",
    "\n",
    "    def T(self):\n",
    "        \"\"\"Create transposed mephistogram\"\"\"\n",
    "        if self.ndim==1:\n",
    "            return self\n",
    "        elif self.ndim==2:\n",
    "            return Mephistogram(self.histo.T, self.bins[::-1], self.axis_names[::-1])\n",
    "        else:\n",
    "            raise NotImplementedError(\"Ö\")\n",
    "\n",
    "    def __add__(self, mephisto):\n",
    "        \"\"\"Add two mephistograms\"\"\"\n",
    "        if self.match(mephisto):\n",
    "            return Mephistogram(self.histo + mephisto.histo, self.bins, self.axis_names)\n",
    "        else:\n",
    "            print(\"Addition not possible.\")\n",
    "            return None\n",
    "\n",
    "    def __matmul__(self, mephisto):\n",
    "        \"\"\"Matrix-multiply two mephistograms\"\"\"\n",
    "        if self.match(mephisto, matmul=True):\n",
    "            new_bins = (self.bins[0], mephisto.bins[1])\n",
    "            new_names = (self.axis_names[0], mephisto.axis_names[1])\n",
    "            return Mephistogram(self.histo @ mephisto.histo, new_bins, new_names)\n",
    "        else:\n",
    "            print(\"Matmul not possible.\")\n",
    "            return None\n",
    "        \n",
    "\n",
    "    def plot(self, **kwargs):\n",
    "        \"\"\"TODO\"\"\"\n",
    "        plt.figure()\n",
    "        if self.ndim == 2:\n",
    "            plt.pcolormesh(*self.bins, self.histo.T, **kwargs)\n",
    "            plt.xlabel(self.axis_names[0])\n",
    "            plt.ylabel(self.axis_names[1])\n",
    "        elif self.ndim == 1:\n",
    "            plt.bar(\n",
    "                get_mids(self.bins),\n",
    "                height=self.histo,\n",
    "                width=np.diff(self.bins),\n",
    "                **kwargs,\n",
    "            )\n",
    "            plt.xlabel(self.axis_names)\n",
    "        else:\n",
    "            print(f\"No plotting possible with {self.ndim} dimensions.\")\n"
   ]
  },
  {
   "cell_type": "code",
   "execution_count": 177,
   "metadata": {},
   "outputs": [
    {
     "name": "stdout",
     "output_type": "stream",
     "text": [
      "Mephistogram with 2 dimensions and shape (9, 6).\n",
      "Axis names are ('x-axis', 'y-axis').\n"
     ]
    },
    {
     "data": {
      "text/plain": [
       "<matplotlib.colorbar.Colorbar at 0x7f939bf4b9d0>"
      ]
     },
     "execution_count": 177,
     "metadata": {},
     "output_type": "execute_result"
    },
    {
     "data": {
      "image/png": "[encoded data removed]",
      "text/plain": [
       "<Figure size 432x288 with 2 Axes>"
      ]
     },
     "metadata": {
      "needs_background": "light"
     },
     "output_type": "display_data"
    },
    {
     "data": {
      "image/png": "[encoded data removed]",
      "text/plain": [
       "<Figure size 432x288 with 2 Axes>"
      ]
     },
     "metadata": {
      "needs_background": "light"
     },
     "output_type": "display_data"
    },
    {
     "data": {
      "image/png": "[encoded data removed]",
      "text/plain": [
       "<Figure size 432x288 with 2 Axes>"
      ]
     },
     "metadata": {
      "needs_background": "light"
     },
     "output_type": "display_data"
    }
   ],
   "source": [
    "# addition test\n",
    "bins = (np.linspace(0, 1, num=10), np.linspace(0, 1, num=7))\n",
    "\n",
    "nums = np.random.uniform(size=(2, 100))\n",
    "h1, xb, yb = np.histogram2d(*nums, bins=bins)\n",
    "mh1 = Mephistogram(h1, bins, (\"x-axis\", \"y-axis\"))\n",
    "\n",
    "nums = np.random.uniform(size=(2, 100))\n",
    "h2, xb, yb = np.histogram2d(*nums, bins=bins)\n",
    "mh2 = Mephistogram(h2, bins, (\"a-axis\", \"b-axis\"))\n",
    "mh3 = mh1 + mh2\n",
    "\n",
    "print(mh3)\n",
    "\n",
    "mh1.plot(vmin=0, vmax=8)\n",
    "plt.colorbar()\n",
    "mh2.plot(vmin=0, vmax=8)\n",
    "plt.colorbar()\n",
    "mh3.plot(vmin=0, vmax=8)\n",
    "plt.colorbar()"
   ]
  },
  {
   "cell_type": "code",
   "execution_count": 178,
   "metadata": {},
   "outputs": [
    {
     "name": "stdout",
     "output_type": "stream",
     "text": [
      "Mephistogram with 2 dimensions and shape (9, 11).\n",
      "Axis names are ('x-axis', 'b-axis').\n"
     ]
    },
    {
     "data": {
      "text/plain": [
       "<matplotlib.colorbar.Colorbar at 0x7f939d8cabc0>"
      ]
     },
     "execution_count": 178,
     "metadata": {},
     "output_type": "execute_result"
    },
    {
     "data": {
      "image/png": "[encoded data removed]",
      "text/plain": [
       "<Figure size 432x288 with 2 Axes>"
      ]
     },
     "metadata": {
      "needs_background": "light"
     },
     "output_type": "display_data"
    },
    {
     "data": {
      "image/png": "[encoded data removed]",
      "text/plain": [
       "<Figure size 432x288 with 2 Axes>"
      ]
     },
     "metadata": {
      "needs_background": "light"
     },
     "output_type": "display_data"
    },
    {
     "data": {
      "image/png": "[encoded data removed]",
      "text/plain": [
       "<Figure size 432x288 with 2 Axes>"
      ]
     },
     "metadata": {
      "needs_background": "light"
     },
     "output_type": "display_data"
    }
   ],
   "source": [
    "# matmul test\n",
    "bins = (np.linspace(0, 1, num=10), np.linspace(0, 1, num=7))\n",
    "nums = np.random.uniform(size=(2, 100))\n",
    "h1, xb, yb = np.histogram2d(*nums, bins=bins)\n",
    "mh1 = Mephistogram(h1, bins, (\"x-axis\", \"y-axis\"))\n",
    "\n",
    "bins = (np.linspace(0, 1, num=7), np.linspace(0, 1, num=12))\n",
    "nums = np.random.uniform(size=(2, 100))\n",
    "h2, xb, yb = np.histogram2d(*nums, bins=bins)\n",
    "mh2 = Mephistogram(h2, bins, (\"a-axis\", \"b-axis\"))\n",
    "mh3 = mh1 @ mh2\n",
    "\n",
    "print(mh3)\n",
    "\n",
    "mh1.plot(vmin=0)\n",
    "plt.colorbar()\n",
    "mh2.plot(vmin=0)\n",
    "plt.colorbar()\n",
    "mh3.plot(vmin=0)\n",
    "plt.colorbar()"
   ]
  },
  {
   "cell_type": "code",
   "execution_count": 160,
   "metadata": {},
   "outputs": [
    {
     "name": "stdout",
     "output_type": "stream",
     "text": [
      "Addition not possible.\n"
     ]
    }
   ],
   "source": [
    "my_hist2 + my_hist3"
   ]
  },
  {
   "cell_type": "code",
   "execution_count": 159,
   "metadata": {},
   "outputs": [
    {
     "data": {
      "text/plain": [
       "Mephistogram with 2 dimensions and shape (9, 4).\n",
       "Axis names are ('axis-1', 'axis-0')."
      ]
     },
     "execution_count": 159,
     "metadata": {},
     "output_type": "execute_result"
    }
   ],
   "source": [
    "my_hist3.T()"
   ]
  },
  {
   "cell_type": "code",
   "execution_count": 142,
   "metadata": {},
   "outputs": [
    {
     "name": "stdout",
     "output_type": "stream",
     "text": [
      "Matrix multiplication possible.\n"
     ]
    },
    {
     "data": {
      "text/plain": [
       "True"
      ]
     },
     "execution_count": 142,
     "metadata": {},
     "output_type": "execute_result"
    }
   ],
   "source": [
    "my_hist2.match(my_hist3.T(), matmul=True)"
   ]
  },
  {
   "cell_type": "code",
   "execution_count": 145,
   "metadata": {},
   "outputs": [],
   "source": [
    "my_T = my_hist.T()"
   ]
  },
  {
   "cell_type": "code",
   "execution_count": 144,
   "metadata": {},
   "outputs": [
    {
     "data": {
      "image/png": "[encoded data removed]",
      "text/plain": [
       "<Figure size 432x288 with 1 Axes>"
      ]
     },
     "metadata": {
      "needs_background": "light"
     },
     "output_type": "display_data"
    }
   ],
   "source": [
    "nums = np.random.uniform(size=1000)\n",
    "bins = np.linspace(0, 1, num=10)\n",
    "\n",
    "h, xb = np.histogram(nums, bins=bins)\n",
    "\n",
    "my_hist = Mephistogram(h, bins, axis_names=\"blubber-axis\")\n",
    "my_hist.plot(alpha=0.5)"
   ]
  },
  {
   "cell_type": "code",
   "execution_count": null,
   "metadata": {},
   "outputs": [],
   "source": []
  }
 ],
 "metadata": {
  "interpreter": {
   "hash": "ce9583ac5360888d2c927c1184ce2bb85c925148753e2b5ec3bdf76daf172c05"
  },
  "kernelspec": {
   "display_name": "Python 3.9.7 64-bit ('Plenum-kM6XdhCv': venv)",
   "language": "python",
   "name": "python3"
  },
  "language_info": {
   "codemirror_mode": {
    "name": "ipython",
    "version": 3
   },
   "file_extension": ".py",
   "mimetype": "text/x-python",
   "name": "python",
   "nbconvert_exporter": "python",
   "pygments_lexer": "ipython3",
   "version": "3.10.6"
  },
  "orig_nbformat": 4
 },
 "nbformat": 4,
 "nbformat_minor": 2
}
