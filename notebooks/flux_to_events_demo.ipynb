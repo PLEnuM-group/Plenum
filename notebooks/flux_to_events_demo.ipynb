{
 "cells": [
  {
   "cell_type": "markdown",
   "metadata": {},
   "source": [
    "Files needed for this demo:\n",
    "* tabulated_logE_sindec_aeff_full.pckl\n",
    "* bckg_flux_vals.pickle\n",
    "* energy_smearing_kde.pckl\n",
    "* e_psi_grid.pickle"
   ]
  },
  {
   "cell_type": "markdown",
   "metadata": {},
   "source": [
    "# Imports"
   ]
  },
  {
   "cell_type": "code",
   "execution_count": 46,
   "metadata": {},
   "outputs": [],
   "source": [
    "import pickle\n",
    "import numpy as np\n",
    "import warnings\n",
    "from copy import deepcopy\n",
    "from matplotlib import pyplot as plt\n",
    "from scipy.optimize import fmin_l_bfgs_b\n",
    "from scipy.special import erfinv\n",
    "from scipy.stats import chi2\n",
    "warnings.filterwarnings(\"ignore\")\n"
   ]
  },
  {
   "cell_type": "code",
   "execution_count": 48,
   "metadata": {},
   "outputs": [
    {
     "data": {
      "text/plain": [
       "<Figure size 432x288 with 0 Axes>"
      ]
     },
     "metadata": {},
     "output_type": "display_data"
    }
   ],
   "source": [
    "plt.set_cmap(\"cividis\")"
   ]
  },
  {
   "cell_type": "markdown",
   "metadata": {},
   "source": [
    "# Source parameters"
   ]
  },
  {
   "cell_type": "code",
   "execution_count": 2,
   "metadata": {},
   "outputs": [],
   "source": [
    "# livetime of 10yrs in seconds\n",
    "LIVETIME = 365 * 10 * 24 * 3600\n",
    "# Normalization energy of power law (E/E_NORM)^gamma\n",
    "E0 = 1E3\n",
    "# Source flux spectral index\n",
    "GAMMA = 2.5\n",
    "PHI_0 = 1E-14 # * (E/E0)^gamma / GeV / cm^2 / s\n",
    "# source declination\n",
    "SRC_DEC = 0 # radian => source at horizon\n",
    "\n",
    "# analysis region in distance to source\n",
    "delta_psi = 2"
   ]
  },
  {
   "cell_type": "markdown",
   "metadata": {},
   "source": [
    "# Functions"
   ]
  },
  {
   "cell_type": "code",
   "execution_count": 3,
   "metadata": {},
   "outputs": [],
   "source": [
    "def get_mids(bins, ext=False):\n",
    "    \"\"\" Calculate the bin mids from an array of bins \"\"\"\n",
    "    res = (bins[1:] + bins[:-1]) * 0.5\n",
    "    if ext==False:\n",
    "        return res\n",
    "    else:\n",
    "        res[0], res[-1] = bins[0], bins[-1]\n",
    "        return res"
   ]
  },
  {
   "cell_type": "code",
   "execution_count": 4,
   "metadata": {},
   "outputs": [],
   "source": [
    "def energy_smearing(ematrix, ev):\n",
    "    return (ematrix @ ev.T).T"
   ]
  },
  {
   "cell_type": "code",
   "execution_count": 5,
   "metadata": {},
   "outputs": [],
   "source": [
    "def atmo_background(aeff_factor, bckg_flux_vals):\n",
    "    return energy_smearing(normed_kvals, aeff_factor * bckg_flux_vals)\n"
   ]
  },
  {
   "cell_type": "code",
   "execution_count": 6,
   "metadata": {},
   "outputs": [],
   "source": [
    "def array_source_interp(dec, array):\n",
    "    \"\"\"Take a 2D array and interpolate its values\n",
    "    based on a value (dec) on the second axis\"\"\"\n",
    "    low_ind = np.digitize(np.sin(dec), sindec_bins) - 1\n",
    "\n",
    "    if low_ind >= (len(sindec_mids)-1):\n",
    "        array_interp = array[:, -1]\n",
    "    elif low_ind == 0:\n",
    "        array_interp = array[:, low_ind]\n",
    "    else:\n",
    "        if sindec_mids[low_ind] > np.sin(dec):\n",
    "            low_ind -= 1\n",
    "        array_interp = np.zeros(len(array))\n",
    "        for i in range(len(array)):\n",
    "            array_interp[i] = np.interp(\n",
    "                np.sin(dec),\n",
    "                [sindec_mids[low_ind], sindec_mids[low_ind + 1]],\n",
    "                [array[i, low_ind], array[i, low_ind + 1]],\n",
    "            )\n",
    "    return array_interp\n"
   ]
  },
  {
   "cell_type": "markdown",
   "metadata": {},
   "source": [
    "# Get the effective area"
   ]
  },
  {
   "cell_type": "code",
   "execution_count": 7,
   "metadata": {},
   "outputs": [
    {
     "name": "stdout",
     "output_type": "stream",
     "text": [
      "40 log_10(energy) bins\n",
      "50 declination bins\n"
     ]
    }
   ],
   "source": [
    "# use only upgoing data to mimick up-going muon track data set\n",
    "with open(\"../resources/tabulated_logE_sindec_aeff_full.pckl\", \"rb\") as f:\n",
    "    logE_bins, sindec_bins, aeff_2d = pickle.load(f)\n",
    "\n",
    "logE_mids = get_mids(logE_bins)\n",
    "ebins = np.power(10, logE_bins)\n",
    "emids = get_mids(ebins)\n",
    "ewidth = np.diff(ebins)\n",
    "\n",
    "sindec_mids = get_mids(sindec_bins)\n",
    "sindec_width = np.diff(sindec_bins)\n",
    "\n",
    "print(len(emids), \"log_10(energy) bins\")\n",
    "print(len(sindec_mids), \"declination bins\")\n"
   ]
  },
  {
   "cell_type": "markdown",
   "metadata": {},
   "source": [
    "# Background"
   ]
  },
  {
   "cell_type": "code",
   "execution_count": 8,
   "metadata": {},
   "outputs": [],
   "source": [
    "with open(\"../resources/bckg_flux_vals.pickle\", \"rb\") as f:\n",
    "    bckg_flux_vals = pickle.load(f)"
   ]
  },
  {
   "cell_type": "markdown",
   "metadata": {},
   "source": [
    "# Energy smearing"
   ]
  },
  {
   "cell_type": "code",
   "execution_count": 9,
   "metadata": {},
   "outputs": [],
   "source": [
    "# energy smearing matrix\n",
    "with open(\"../resources/energy_smearing_kde.pckl\", \"rb\") as f:\n",
    "    normed_kvals, logE_reco_bins = pickle.load(f)\n",
    "# normalize per bin in true energy\n",
    "normed_kvals = normed_kvals / np.sum(normed_kvals, axis=0)\n",
    "logE_reco_mids = get_mids(logE_reco_bins)"
   ]
  },
  {
   "cell_type": "code",
   "execution_count": 49,
   "metadata": {},
   "outputs": [
    {
     "data": {
      "image/png": "[encoded data removed]",
      "text/plain": [
       "<Figure size 432x288 with 2 Axes>"
      ]
     },
     "metadata": {
      "needs_background": "light"
     },
     "output_type": "display_data"
    }
   ],
   "source": [
    "# logE_mids are the same as for effective area binning\n",
    "egrid_true, egrid_reco = np.meshgrid(logE_mids, logE_reco_mids)\n",
    "\n",
    "f, axes = plt.subplots()\n",
    "\n",
    "axes.grid(False)\n",
    "im = axes.pcolormesh(egrid_true, egrid_reco, normed_kvals)\n",
    "axes.set_ylim(np.min(egrid_reco), np.max(egrid_reco))\n",
    "axes.set_xlim(np.min(egrid_true), np.max(egrid_true))\n",
    "axes.set_title(\"Original energy resolution\")\n",
    "axes.set_ylabel(r\"$\\log_{10}$ ($E_{\\rm reco}$ / GeV) (muon energy)\")\n",
    "axes.set_xlabel(r\"$\\log_{10}$ ($E_{\\rm true}$ / GeV) (neutrino energy)\")\n",
    "f.colorbar(im)\n",
    "f.tight_layout()"
   ]
  },
  {
   "cell_type": "markdown",
   "metadata": {},
   "source": [
    "# Source flux definition"
   ]
  },
  {
   "cell_type": "code",
   "execution_count": 12,
   "metadata": {},
   "outputs": [],
   "source": [
    "def astro_flux(\n",
    "    aeff_factor,\n",
    "    emids,\n",
    "    E0,\n",
    "    gamma,\n",
    "    phi_scaling,\n",
    "):\n",
    "    \"\"\"\n",
    "    flux shape: dphi/dE = phi_0 * (E/E0) ** -gamma\n",
    "    powerlaw parameters:\n",
    "        * gamma\n",
    "        * phi scaling (phi normalization will be phi_0 * phi scaling) \n",
    "          -> actual fit parameter will be of magnitude 1 instead of E-14\n",
    "    \"\"\"\n",
    "    tmp = aeff_factor * (emids/E0)**(-gamma) * PHI_0 * phi_scaling\n",
    "    return energy_smearing(normed_kvals, tmp)"
   ]
  },
  {
   "cell_type": "markdown",
   "metadata": {},
   "source": [
    "# calculate number of events per source as crosscheck\n",
    "\n",
    "(should be 39.6 events in total)"
   ]
  },
  {
   "cell_type": "code",
   "execution_count": 50,
   "metadata": {},
   "outputs": [
    {
     "name": "stdout",
     "output_type": "stream",
     "text": [
      "39.62833474801221\n"
     ]
    }
   ],
   "source": [
    "aeff_factor_signal = (\n",
    "    array_source_interp(SRC_DEC, aeff_2d[\"IceCube\"]) * LIVETIME * ewidth\n",
    ")\n",
    "# this is only 1D in energy dimension\n",
    "k_s = astro_flux(\n",
    "    aeff_factor_signal,\n",
    "    emids,\n",
    "    E0,\n",
    "    GAMMA,\n",
    "    1,\n",
    ")\n",
    "print(np.sum(k_s))\n"
   ]
  },
  {
   "cell_type": "markdown",
   "metadata": {},
   "source": [
    "# Psi-Energy histogram\n",
    "\n",
    "Going 2D now with angular distance 'Psi'"
   ]
  },
  {
   "cell_type": "code",
   "execution_count": 51,
   "metadata": {},
   "outputs": [],
   "source": [
    "with open(\"../resources/e_psi_grid.pickle\", \"rb\") as f:\n",
    "    # 2D histogram in log(E) and psi²\n",
    "    e_psi2_grid = pickle.load(f)"
   ]
  },
  {
   "cell_type": "code",
   "execution_count": 52,
   "metadata": {},
   "outputs": [],
   "source": [
    "# Background is uniform in psi²\n",
    "# so we generate a matching uniform histogram here\n",
    "bckg_grid = np.ones_like(e_psi2_grid)\n",
    "bckg_grid /= np.sum(bckg_grid, axis=0)\n"
   ]
  },
  {
   "cell_type": "markdown",
   "metadata": {},
   "source": [
    "### Full nominal (=Asimov) histograms in Psi - log(E)\n",
    "\n",
    "Fit parameters for analysis:\n",
    "* Global normalization of k_b\n",
    "* Global normalization of k_s\n",
    "* Spectral index of k_s (=gamma)"
   ]
  },
  {
   "cell_type": "code",
   "execution_count": 53,
   "metadata": {},
   "outputs": [
    {
     "name": "stdout",
     "output_type": "stream",
     "text": [
      "Asimov data sum:\n",
      "Background: 549.8420471647463\n",
      "Signal: 39.6283347480122\n",
      "S+B 589.4703819127585\n"
     ]
    }
   ],
   "source": [
    "ident = \"IceCube\"\n",
    "aeff_factor_bckg = (\n",
    "    array_source_interp(SRC_DEC, aeff_2d[ident])\n",
    "    * LIVETIME\n",
    "    * ewidth\n",
    "    * (np.deg2rad(delta_psi) ** 2)\n",
    "    * np.pi  # solid angle approx.\n",
    ") * bckg_grid * 1 ## nominal value, FIT PARAMETER\n",
    "\n",
    "aeff_factor_signal = (\n",
    "    array_source_interp(SRC_DEC, aeff_2d[ident])* LIVETIME * ewidth * e_psi2_grid\n",
    ")\n",
    "# model expectation before adding fit parameters\n",
    "mu_b_base = deepcopy(aeff_factor_bckg)\n",
    "mu_s_base = deepcopy(aeff_factor_signal)\n",
    "\n",
    "# asimov data\n",
    "k_b = atmo_background(aeff_factor_bckg, array_source_interp(SRC_DEC, bckg_flux_vals.T).T)\n",
    "k_s = astro_flux(\n",
    "    aeff_factor_signal,\n",
    "    emids,\n",
    "    E0,\n",
    "    GAMMA, ## FIT PARAMETER\n",
    "    1, ## FIT PARAMETER\n",
    ")\n",
    "k_i = k_s + k_b\n",
    "\n",
    "print(\"Asimov data sum:\")\n",
    "print(\"Background:\", np.sum(k_b)) # ~550\n",
    "print(\"Signal:\", np.sum(k_s)) # ~40\n",
    "print(\"S+B\", np.sum(k_i)) # ~590\n",
    "\n",
    "\n"
   ]
  },
  {
   "cell_type": "markdown",
   "metadata": {},
   "source": [
    "## some plotting"
   ]
  },
  {
   "cell_type": "code",
   "execution_count": 54,
   "metadata": {},
   "outputs": [],
   "source": [
    "delta_psi = 2\n",
    "psi2_bins = np.linspace(0, delta_psi**2, delta_psi**2 * 25 + 1)"
   ]
  },
  {
   "cell_type": "code",
   "execution_count": 55,
   "metadata": {},
   "outputs": [
    {
     "data": {
      "text/plain": [
       "Text(0.5, 1.0, 'Signal point-source flux')"
      ]
     },
     "execution_count": 55,
     "metadata": {},
     "output_type": "execute_result"
    },
    {
     "data": {
      "image/png": "[encoded data removed]",
      "text/plain": [
       "<Figure size 432x288 with 1 Axes>"
      ]
     },
     "metadata": {
      "needs_background": "light"
     },
     "output_type": "display_data"
    }
   ],
   "source": [
    "plt.pcolormesh(logE_reco_bins, psi2_bins, k_s)\n",
    "plt.ylabel(\"(Psi/deg)²\")\n",
    "plt.xlabel(\"log10(E_reco/GeV)\")\n",
    "plt.title(\"Signal point-source flux\")"
   ]
  },
  {
   "cell_type": "code",
   "execution_count": 56,
   "metadata": {},
   "outputs": [
    {
     "data": {
      "text/plain": [
       "Text(0.5, 1.0, 'Background atmospheric flux')"
      ]
     },
     "execution_count": 56,
     "metadata": {},
     "output_type": "execute_result"
    },
    {
     "data": {
      "image/png": "[encoded data removed]",
      "text/plain": [
       "<Figure size 432x288 with 1 Axes>"
      ]
     },
     "metadata": {
      "needs_background": "light"
     },
     "output_type": "display_data"
    }
   ],
   "source": [
    "plt.pcolormesh(logE_reco_bins, psi2_bins, k_b)\n",
    "plt.ylabel(\"(Psi/deg)²\")\n",
    "plt.xlabel(\"log10(E_reco/GeV)\")\n",
    "plt.title(\"Background atmospheric flux\")"
   ]
  },
  {
   "cell_type": "code",
   "execution_count": 57,
   "metadata": {},
   "outputs": [
    {
     "data": {
      "text/plain": [
       "<matplotlib.legend.Legend at 0x7fa4bc76f100>"
      ]
     },
     "execution_count": 57,
     "metadata": {},
     "output_type": "execute_result"
    },
    {
     "data": {
      "image/png": "[encoded data removed]",
      "text/plain": [
       "<Figure size 432x288 with 1 Axes>"
      ]
     },
     "metadata": {
      "needs_background": "light"
     },
     "output_type": "display_data"
    }
   ],
   "source": [
    "# summed 1D hist in psi²\n",
    "plt.plot(get_mids(psi2_bins), k_s.sum(axis=1), ds=\"steps-mid\", label=\"signal\")\n",
    "plt.plot(get_mids(psi2_bins), k_b.sum(axis=1), ds=\"steps-mid\", label=\"bckg\")\n",
    "plt.plot(get_mids(psi2_bins), k_i.sum(axis=1), ds=\"steps-mid\", label=\"sum\")\n",
    "plt.ylim(0, 14)\n",
    "plt.xlim(0, 4)\n",
    "plt.xlabel(\"(Psi/deg)²\")\n",
    "plt.ylabel(\"# events\")\n",
    "plt.legend()"
   ]
  },
  {
   "cell_type": "code",
   "execution_count": 58,
   "metadata": {},
   "outputs": [
    {
     "data": {
      "text/plain": [
       "<matplotlib.legend.Legend at 0x7fa4dcad75b0>"
      ]
     },
     "execution_count": 58,
     "metadata": {},
     "output_type": "execute_result"
    },
    {
     "data": {
      "image/png": "[encoded data removed]",
      "text/plain": [
       "<Figure size 432x288 with 1 Axes>"
      ]
     },
     "metadata": {
      "needs_background": "light"
     },
     "output_type": "display_data"
    }
   ],
   "source": [
    "plt.plot(logE_reco_mids, k_s.sum(axis=0), ds=\"steps-mid\", label=\"signal\")\n",
    "plt.plot(logE_reco_mids, k_b.sum(axis=0), ds=\"steps-mid\", label=\"bckg\")\n",
    "plt.plot(logE_reco_mids, k_i.sum(axis=0), ds=\"steps-mid\", label=\"sum\")\n",
    "plt.yscale(\"log\")\n",
    "plt.xlim(2, 7)\n",
    "plt.ylim(1E-2, 2E2)\n",
    "plt.ylabel(\"#events per bin in log(E_reco)\")\n",
    "plt.xlabel(\"log10(E_reco/GeV)\")\n",
    "plt.legend()"
   ]
  },
  {
   "cell_type": "markdown",
   "metadata": {},
   "source": [
    "### DEMO: Significance test Background vs. Background + Signal"
   ]
  },
  {
   "cell_type": "code",
   "execution_count": 61,
   "metadata": {},
   "outputs": [],
   "source": [
    "def ps_llh_2d_composite(\n",
    "    x,\n",
    "    mu_b_base,\n",
    "    mu_s_base,\n",
    "    k_i,\n",
    "    e_0=E0,\n",
    "    phi_0=PHI_0,\n",
    "):\n",
    "    \"\"\"fit parameters in x:\n",
    "    for the standard power law:\n",
    "    x[0]: background normalization scaling\n",
    "    x[1]: signal spectral index\n",
    "    x[2]: signal normalization scaling\n",
    "\n",
    "    mu_b_base: effective area factor for background\n",
    "    mu_s_base: effective area factor for signal\n",
    "    k_i: observation/asimov data\n",
    "    e_norm: normalization energy, default E0_NGC\n",
    "    phi_0: normalization flux, default PHI_NGC\n",
    "    \"\"\"\n",
    "\n",
    "    mu_b = atmo_background(\n",
    "        mu_b_base * x[0], array_source_interp(SRC_DEC, bckg_flux_vals.T).T\n",
    "    )\n",
    "    mu_s = astro_flux(\n",
    "        mu_s_base, emids, e_0, *x[1:]\n",
    "    )\n",
    "    mu_i = mu_s + mu_b\n",
    "    # -2 Log Likelihood (B/S)\n",
    "    return -2 * np.sum(\n",
    "        np.where(\n",
    "            np.logical_and(mu_i > 0, k_i > 0),\n",
    "            k_i * np.log(mu_i)\n",
    "            - mu_i\n",
    "            - 0.5 * np.log(2 * np.pi * k_i)\n",
    "            + k_i\n",
    "            - k_i * np.log(k_i),\n",
    "            0,\n",
    "        )\n",
    "    )\n",
    " "
   ]
  },
  {
   "cell_type": "code",
   "execution_count": 62,
   "metadata": {},
   "outputs": [
    {
     "name": "stdout",
     "output_type": "stream",
     "text": [
      "Bckg-only normalization: [1.07207279]\n",
      "Signal fit parameters: [1.00004736 2.49979114 0.99891352]\n",
      "P-VALUE: 3.142934179174749e-05 SIGNIFICANCE: 4.162854670791297\n"
     ]
    }
   ],
   "source": [
    "# define the fitting functions with all parameters\n",
    "# background only, 1 free parameter\n",
    "local_llh = lambda x: ps_llh_2d_composite(\n",
    "    (x[0], 2, 0), mu_b_base, mu_s_base, k_i\n",
    ")\n",
    "# background + signal, 3 free parameters\n",
    "global_llh = lambda x: ps_llh_2d_composite(\n",
    "    x, mu_b_base, mu_s_base, k_i\n",
    ")\n",
    "# ... and fit both hypotheses!\n",
    "out_bckg = fmin_l_bfgs_b(\n",
    "    local_llh,\n",
    "    x0=(1.2,),\n",
    "    approx_grad=True,\n",
    ")\n",
    "print(\"Bckg-only normalization:\", out_bckg[0])\n",
    "\n",
    "out_comp = fmin_l_bfgs_b(\n",
    "    global_llh,\n",
    "    x0=(1.2, 3.0, 1.2),\n",
    "    approx_grad=True,\n",
    ")\n",
    "print(\"Signal fit parameters:\", out_comp[0])\n",
    "\n",
    "# calculate p-value and significance with Wilks' and 2 d.o.f\n",
    "pval = chi2.sf(out_bckg[1] - out_comp[1], 2)\n",
    "significance = erfinv(1 - pval) * np.sqrt(2)\n",
    "print(\"P-VALUE:\", pval, \"SIGNIFICANCE:\", significance)\n"
   ]
  }
 ],
 "metadata": {
  "kernelspec": {
   "display_name": "Python 3",
   "language": "python",
   "name": "python3"
  },
  "language_info": {
   "codemirror_mode": {
    "name": "ipython",
    "version": 3
   },
   "file_extension": ".py",
   "mimetype": "text/x-python",
   "name": "python",
   "nbconvert_exporter": "python",
   "pygments_lexer": "ipython3",
   "version": "3.9.7"
  }
 },
 "nbformat": 4,
 "nbformat_minor": 4
}
